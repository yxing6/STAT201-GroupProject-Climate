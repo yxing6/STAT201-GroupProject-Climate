{
 "cells": [
  {
   "cell_type": "markdown",
   "id": "b284bc81-aed4-4dac-a6df-a02eca8619ef",
   "metadata": {},
   "source": [
    "### Proposal feedback \n",
    "Hello group 15, I think your introduction, initial data explore, and method section all are well written, I understood well you group's intention.  \n",
    "However, I hold a slightly different idea on the null hypothesis. Please see the following my demonstration of a case which match your null but show significant relation between positive covid and group status. "
   ]
  },
  {
   "cell_type": "code",
   "execution_count": null,
   "id": "437726f3-5b47-4e90-8bc6-b629eb09a088",
   "metadata": {},
   "outputs": [],
   "source": [
    "suppressPackageStartupMessages(library(tidyverse))\n",
    "suppressPackageStartupMessages(library(tidymodels))\n",
    "suppressPackageStartupMessages(library(repr))\n",
    "suppressPackageStartupMessages(library(infer))"
   ]
  },
  {
   "cell_type": "code",
   "execution_count": null,
   "id": "037ed429-302c-4fd6-944f-9909b6a522c8",
   "metadata": {},
   "outputs": [],
   "source": [
    "# consider all the data frama are samples. \n",
    "\n",
    "# Here I make a data frama of 100 people in total:\n",
    "\n",
    "base_df_1 <- data.frame(group = rep(c(1), each = 80)) # 80 of them labelled as 1, so group 1 account for 80% of the population\n",
    "base_df_0 <- data.frame(group = rep(c(0), each = 20)) # 20 of them labelled as 0, so group 0 account for 20% of the population. \n",
    "\n",
    "\n",
    "# summarize the base population df \n",
    "\n",
    "base_df <- rbind(base_df_1, base_df_0) %>% \n",
    "    mutate(group = as.factor(group))\n",
    "\n",
    "base_df_summary <- base_df %>%\n",
    "    group_by(group) %>%\n",
    "    summarize(n = n()) %>%\n",
    "    mutate(p = n / nrow(base_df))\n",
    "\n",
    "base_df_summary"
   ]
  },
  {
   "cell_type": "code",
   "execution_count": null,
   "id": "9221446f-e66b-46f8-9938-4e9bf989e4f1",
   "metadata": {},
   "outputs": [],
   "source": [
    "# Here I make a data frama of 10 people who are positive on covid \n",
    "\n",
    "covid_df_1 <- data.frame(covid = rep(c(1), each = 5)) # 5 of them are in group 1, so p_1 = 0.5,\n",
    "covid_df_0 <- data.frame(covid = rep(c(0), each = 5)) # 5 of them are in group 2, so p_2 = 0.5\n",
    "\n",
    "covid_df <- rbind(covid_df_1, covid_df_0) %>% \n",
    "    mutate(covid = as.factor(covid))\n",
    "\n",
    "covid_df_summary <- covid_df %>%\n",
    "    group_by(covid) %>%\n",
    "    summarize(n = n()) %>%\n",
    "    mutate(p = n / nrow(covid_df))\n",
    "\n",
    "covid_df_summary"
   ]
  },
  {
   "cell_type": "code",
   "execution_count": null,
   "id": "e6cc0bdc-e20f-4841-8c32-73c0a05dfc4c",
   "metadata": {},
   "outputs": [],
   "source": [
    "options(repr.plot.width = 12, repr.plot.height = 8)\n",
    "pie <- covid_df_summary %>%\n",
    "    ggplot(aes(\"\", y= p, fill = covid)) +\n",
    "     geom_bar(width = 1, stat = \"identity\") +\n",
    "    coord_polar(\"y\", start=0)+\n",
    "     theme(text = element_text(size = 20))\n",
    "pie"
   ]
  },
  {
   "cell_type": "markdown",
   "id": "9e16b7f2-85d7-4a41-aa64-acce6f396f73",
   "metadata": {},
   "source": [
    "$H_o:$ The proportion of tested positive is same in each ethnicity$: p_1 = p_2$"
   ]
  },
  {
   "cell_type": "code",
   "execution_count": 53,
   "id": "c22d550e-7e9c-4df1-b8ac-ba7fe0591f66",
   "metadata": {},
   "outputs": [
    {
     "data": {
      "text/html": [
       "6.25"
      ],
      "text/latex": [
       "6.25"
      ],
      "text/markdown": [
       "6.25"
      ],
      "text/plain": [
       "[1] 6.25"
      ]
     },
     "metadata": {},
     "output_type": "display_data"
    }
   ],
   "source": [
    "# In this case, p_1 = p_2, then you do not reject your null hypothesis. \n",
    "\n",
    "# see the rate of group 1 have caught covid?\n",
    "rate_of_covid_group_1 <- 5/80 * 100\n",
    "rate_of_covid_group_1"
   ]
  },
  {
   "cell_type": "code",
   "execution_count": 55,
   "id": "1146e9e8-db9b-4cf5-9eba-8e0e45974726",
   "metadata": {},
   "outputs": [
    {
     "data": {
      "text/html": [
       "25"
      ],
      "text/latex": [
       "25"
      ],
      "text/markdown": [
       "25"
      ],
      "text/plain": [
       "[1] 25"
      ]
     },
     "metadata": {},
     "output_type": "display_data"
    }
   ],
   "source": [
    "# but group 0?\n",
    "rate_of_covid_group_0 <- 5/20 * 100\n",
    "rate_of_covid_group_0"
   ]
  },
  {
   "cell_type": "markdown",
   "id": "97862cc4-64d4-486a-b3ea-89ba68e4c7ea",
   "metadata": {
    "tags": []
   },
   "source": [
    "#### The chance of group 0 getting covid is 4 times higher than group 1. \n",
    "so under this logic, the chance of getting covid is significantly related to your status of in a particular group.   \n",
    "  \n",
    "In my mind, you probably need to bring in to your project the population break down by ethnicity in the state of CA.  \n",
    "check this website: the second graph shows population breakdown by ethnicity.  \n",
    "https://www.ppic.org/publication/californias-population/  \n",
    "In 2020, latino is the largest population group in CA, and this might related to why latino has the highest proportion in positive case in the pie chart in your proposal.   \n",
    "  \n",
    "In my mind, the issue is might be from the null hypothesis. A null hypothesis should reflect nothing interesting is happening.  \n",
    "Thus a null hypothesis of   \n",
    "*the rate of positive covid **per capita** is the same between different ethnic groups*  \n",
    "might be more appropriate.  \n",
    "$$\\frac{Covid_{latino}}{Population_{latino}} = \\frac{Covid_{white}}{Population_{white}} = \\frac{Covid_{Asian}}{Population_{Asian}} = \\frac{Covid_{Black}}{Population_{Black}}$$"
   ]
  }
 ],
 "metadata": {
  "kernelspec": {
   "display_name": "R",
   "language": "R",
   "name": "ir"
  },
  "language_info": {
   "codemirror_mode": "r",
   "file_extension": ".r",
   "mimetype": "text/x-r-source",
   "name": "R",
   "pygments_lexer": "r",
   "version": "4.1.2"
  }
 },
 "nbformat": 4,
 "nbformat_minor": 5
}
