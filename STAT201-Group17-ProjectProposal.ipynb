{
 "cells": [
  {
   "cell_type": "code",
   "execution_count": 1,
   "id": "c5ea7515-4ce0-4c78-8928-2f837c7bb556",
   "metadata": {},
   "outputs": [
    {
     "name": "stderr",
     "output_type": "stream",
     "text": [
      "Warning message in system(\"timedatectl\", intern = TRUE):\n",
      "“running command 'timedatectl' had status 1”\n"
     ]
    }
   ],
   "source": [
    "# install.packages(\"tidymodels\")\n",
    "# install.packages(\"infer\")\n",
    "suppressPackageStartupMessages(library(tidyverse))\n",
    "suppressPackageStartupMessages(library(tidymodels))\n",
    "suppressPackageStartupMessages(library(repr))\n",
    "suppressPackageStartupMessages(library(infer))\n",
    "suppressPackageStartupMessages(library(GGally))\n",
    "# library(tidyverse)\n",
    "# library(infer)\n",
    "# library(repr)\n",
    "# library(tidymodels)\n",
    "# library(GGally)\n",
    "options(repr.matrix.max.rows = 6)\n",
    "set.seed(100)"
   ]
  },
  {
   "cell_type": "code",
   "execution_count": 2,
   "id": "7b09ee1d-0728-4c70-87f4-570b0a367e25",
   "metadata": {},
   "outputs": [],
   "source": [
    "climate_1951 <- read_csv(\"https://raw.githubusercontent.com/yxing6/STAT201-GroupProject-Climate/main/Data/en_climate_daily_BC_1100030_1951_P1D.csv\", show_col_types = FALSE)\n",
    "climate_1952 <- read_csv(\"https://raw.githubusercontent.com/yxing6/STAT201-GroupProject-Climate/main/Data/en_climate_daily_BC_1100030_1952_P1D.csv\", show_col_types = FALSE)\n",
    "climate_1953 <- read_csv(\"https://raw.githubusercontent.com/yxing6/STAT201-GroupProject-Climate/main/Data/en_climate_daily_BC_1100030_1953_P1D.csv\", show_col_types = FALSE)\n",
    "climate_1954 <- read_csv(\"https://raw.githubusercontent.com/yxing6/STAT201-GroupProject-Climate/main/Data/en_climate_daily_BC_1100030_1954_P1D.csv\", show_col_types = FALSE)\n",
    "climate_1955 <- read_csv(\"https://raw.githubusercontent.com/yxing6/STAT201-GroupProject-Climate/main/Data/en_climate_daily_BC_1100030_1955_P1D.csv\", show_col_types = FALSE)\n",
    "climate_2001 <- read_csv(\"https://raw.githubusercontent.com/yxing6/STAT201-GroupProject-Climate/main/Data/en_climate_daily_BC_1100030_2001_P1D.csv\", show_col_types = FALSE)\n",
    "climate_2002 <- read_csv(\"https://raw.githubusercontent.com/yxing6/STAT201-GroupProject-Climate/main/Data/en_climate_daily_BC_1100030_2002_P1D.csv\", show_col_types = FALSE)\n",
    "climate_2003 <- read_csv(\"https://raw.githubusercontent.com/yxing6/STAT201-GroupProject-Climate/main/Data/en_climate_daily_BC_1100030_2003_P1D.csv\", show_col_types = FALSE)\n",
    "climate_2004 <- read_csv(\"https://raw.githubusercontent.com/yxing6/STAT201-GroupProject-Climate/main/Data/en_climate_daily_BC_1100030_2004_P1D.csv\", show_col_types = FALSE)\n",
    "climate_2005 <- read_csv(\"https://raw.githubusercontent.com/yxing6/STAT201-GroupProject-Climate/main/Data/en_climate_daily_BC_1100030_2005_P1D.csv\", show_col_types = FALSE)"
   ]
  },
  {
   "cell_type": "code",
   "execution_count": 3,
   "id": "be687ffa-f7a4-4e68-ac99-39597ebcc461",
   "metadata": {},
   "outputs": [],
   "source": [
    "climate_50s <- rbind(climate_1951, \n",
    "                     climate_1952,\n",
    "                     climate_1953,\n",
    "                     climate_1954,\n",
    "                     climate_1955)\n",
    "climate_00s <- rbind(climate_2001, \n",
    "                     climate_2002,\n",
    "                     climate_2003,\n",
    "                     climate_2004,\n",
    "                     climate_2005)"
   ]
  },
  {
   "cell_type": "code",
   "execution_count": 4,
   "id": "874be969-e033-4c42-9e4d-76d775314eb0",
   "metadata": {},
   "outputs": [
    {
     "data": {
      "text/html": [
       "<table class=\"dataframe\">\n",
       "<caption>A spec_tbl_df: 1826 × 31</caption>\n",
       "<thead>\n",
       "\t<tr><th scope=col>Longitude (x)</th><th scope=col>Latitude (y)</th><th scope=col>Station Name</th><th scope=col>Climate ID</th><th scope=col>Date/Time</th><th scope=col>Year</th><th scope=col>Month</th><th scope=col>Day</th><th scope=col>Data Quality</th><th scope=col>Max Temp (°C)</th><th scope=col>⋯</th><th scope=col>Total Snow (cm)</th><th scope=col>Total Snow Flag</th><th scope=col>Total Precip (mm)</th><th scope=col>Total Precip Flag</th><th scope=col>Snow on Grnd (cm)</th><th scope=col>Snow on Grnd Flag</th><th scope=col>Dir of Max Gust (10s deg)</th><th scope=col>Dir of Max Gust Flag</th><th scope=col>Spd of Max Gust (km/h)</th><th scope=col>Spd of Max Gust Flag</th></tr>\n",
       "\t<tr><th scope=col>&lt;dbl&gt;</th><th scope=col>&lt;dbl&gt;</th><th scope=col>&lt;chr&gt;</th><th scope=col>&lt;dbl&gt;</th><th scope=col>&lt;date&gt;</th><th scope=col>&lt;chr&gt;</th><th scope=col>&lt;chr&gt;</th><th scope=col>&lt;chr&gt;</th><th scope=col>&lt;lgl&gt;</th><th scope=col>&lt;dbl&gt;</th><th scope=col>⋯</th><th scope=col>&lt;dbl&gt;</th><th scope=col>&lt;lgl&gt;</th><th scope=col>&lt;dbl&gt;</th><th scope=col>&lt;lgl&gt;</th><th scope=col>&lt;dbl&gt;</th><th scope=col>&lt;lgl&gt;</th><th scope=col>&lt;dbl&gt;</th><th scope=col>&lt;chr&gt;</th><th scope=col>&lt;chr&gt;</th><th scope=col>&lt;lgl&gt;</th></tr>\n",
       "</thead>\n",
       "<tbody>\n",
       "\t<tr><td>-122.36</td><td>49.03</td><td>ABBOTSFORD A</td><td>1100030</td><td>1951-01-01</td><td>1951-1955</td><td>01</td><td>01</td><td>NA</td><td>4.4</td><td>⋯</td><td>0.0</td><td>NA</td><td>21.3</td><td>NA</td><td>NA</td><td>NA</td><td>NA</td><td>NA</td><td>NA</td><td>NA</td></tr>\n",
       "\t<tr><td>-122.36</td><td>49.03</td><td>ABBOTSFORD A</td><td>1100030</td><td>1951-01-02</td><td>1951-1955</td><td>01</td><td>02</td><td>NA</td><td>6.1</td><td>⋯</td><td>0.0</td><td>NA</td><td>32.0</td><td>NA</td><td>NA</td><td>NA</td><td>NA</td><td>NA</td><td>NA</td><td>NA</td></tr>\n",
       "\t<tr><td>-122.36</td><td>49.03</td><td>ABBOTSFORD A</td><td>1100030</td><td>1951-01-03</td><td>1951-1955</td><td>01</td><td>03</td><td>NA</td><td>5.0</td><td>⋯</td><td>0.5</td><td>NA</td><td> 1.3</td><td>NA</td><td>NA</td><td>NA</td><td>NA</td><td>NA</td><td>NA</td><td>NA</td></tr>\n",
       "\t<tr><td>⋮</td><td>⋮</td><td>⋮</td><td>⋮</td><td>⋮</td><td>⋮</td><td>⋮</td><td>⋮</td><td>⋮</td><td>⋮</td><td>⋱</td><td>⋮</td><td>⋮</td><td>⋮</td><td>⋮</td><td>⋮</td><td>⋮</td><td>⋮</td><td>⋮</td><td>⋮</td><td>⋮</td></tr>\n",
       "\t<tr><td>-122.36</td><td>49.03</td><td>ABBOTSFORD A</td><td>1100030</td><td>1955-12-29</td><td>1951-1955</td><td>12</td><td>29</td><td>NA</td><td>1.7</td><td>⋯</td><td>0</td><td>NA</td><td>0</td><td>NA</td><td>0</td><td>NA</td><td>NA</td><td>NA</td><td>&lt;31</td><td>NA</td></tr>\n",
       "\t<tr><td>-122.36</td><td>49.03</td><td>ABBOTSFORD A</td><td>1100030</td><td>1955-12-30</td><td>1951-1955</td><td>12</td><td>30</td><td>NA</td><td>3.9</td><td>⋯</td><td>0</td><td>NA</td><td>0</td><td>NA</td><td>0</td><td>NA</td><td>NA</td><td>NA</td><td>&lt;31</td><td>NA</td></tr>\n",
       "\t<tr><td>-122.36</td><td>49.03</td><td>ABBOTSFORD A</td><td>1100030</td><td>1955-12-31</td><td>1951-1955</td><td>12</td><td>31</td><td>NA</td><td>0.6</td><td>⋯</td><td>0</td><td>NA</td><td>0</td><td>NA</td><td>0</td><td>NA</td><td>NA</td><td>NA</td><td>&lt;31</td><td>NA</td></tr>\n",
       "</tbody>\n",
       "</table>\n"
      ],
      "text/latex": [
       "A spec\\_tbl\\_df: 1826 × 31\n",
       "\\begin{tabular}{lllllllllllllllllllll}\n",
       " Longitude (x) & Latitude (y) & Station Name & Climate ID & Date/Time & Year & Month & Day & Data Quality & Max Temp (°C) & ⋯ & Total Snow (cm) & Total Snow Flag & Total Precip (mm) & Total Precip Flag & Snow on Grnd (cm) & Snow on Grnd Flag & Dir of Max Gust (10s deg) & Dir of Max Gust Flag & Spd of Max Gust (km/h) & Spd of Max Gust Flag\\\\\n",
       " <dbl> & <dbl> & <chr> & <dbl> & <date> & <chr> & <chr> & <chr> & <lgl> & <dbl> & ⋯ & <dbl> & <lgl> & <dbl> & <lgl> & <dbl> & <lgl> & <dbl> & <chr> & <chr> & <lgl>\\\\\n",
       "\\hline\n",
       "\t -122.36 & 49.03 & ABBOTSFORD A & 1100030 & 1951-01-01 & 1951-1955 & 01 & 01 & NA & 4.4 & ⋯ & 0.0 & NA & 21.3 & NA & NA & NA & NA & NA & NA & NA\\\\\n",
       "\t -122.36 & 49.03 & ABBOTSFORD A & 1100030 & 1951-01-02 & 1951-1955 & 01 & 02 & NA & 6.1 & ⋯ & 0.0 & NA & 32.0 & NA & NA & NA & NA & NA & NA & NA\\\\\n",
       "\t -122.36 & 49.03 & ABBOTSFORD A & 1100030 & 1951-01-03 & 1951-1955 & 01 & 03 & NA & 5.0 & ⋯ & 0.5 & NA &  1.3 & NA & NA & NA & NA & NA & NA & NA\\\\\n",
       "\t ⋮ & ⋮ & ⋮ & ⋮ & ⋮ & ⋮ & ⋮ & ⋮ & ⋮ & ⋮ & ⋱ & ⋮ & ⋮ & ⋮ & ⋮ & ⋮ & ⋮ & ⋮ & ⋮ & ⋮ & ⋮\\\\\n",
       "\t -122.36 & 49.03 & ABBOTSFORD A & 1100030 & 1955-12-29 & 1951-1955 & 12 & 29 & NA & 1.7 & ⋯ & 0 & NA & 0 & NA & 0 & NA & NA & NA & <31 & NA\\\\\n",
       "\t -122.36 & 49.03 & ABBOTSFORD A & 1100030 & 1955-12-30 & 1951-1955 & 12 & 30 & NA & 3.9 & ⋯ & 0 & NA & 0 & NA & 0 & NA & NA & NA & <31 & NA\\\\\n",
       "\t -122.36 & 49.03 & ABBOTSFORD A & 1100030 & 1955-12-31 & 1951-1955 & 12 & 31 & NA & 0.6 & ⋯ & 0 & NA & 0 & NA & 0 & NA & NA & NA & <31 & NA\\\\\n",
       "\\end{tabular}\n"
      ],
      "text/markdown": [
       "\n",
       "A spec_tbl_df: 1826 × 31\n",
       "\n",
       "| Longitude (x) &lt;dbl&gt; | Latitude (y) &lt;dbl&gt; | Station Name &lt;chr&gt; | Climate ID &lt;dbl&gt; | Date/Time &lt;date&gt; | Year &lt;chr&gt; | Month &lt;chr&gt; | Day &lt;chr&gt; | Data Quality &lt;lgl&gt; | Max Temp (°C) &lt;dbl&gt; | ⋯ ⋯ | Total Snow (cm) &lt;dbl&gt; | Total Snow Flag &lt;lgl&gt; | Total Precip (mm) &lt;dbl&gt; | Total Precip Flag &lt;lgl&gt; | Snow on Grnd (cm) &lt;dbl&gt; | Snow on Grnd Flag &lt;lgl&gt; | Dir of Max Gust (10s deg) &lt;dbl&gt; | Dir of Max Gust Flag &lt;chr&gt; | Spd of Max Gust (km/h) &lt;chr&gt; | Spd of Max Gust Flag &lt;lgl&gt; |\n",
       "|---|---|---|---|---|---|---|---|---|---|---|---|---|---|---|---|---|---|---|---|---|\n",
       "| -122.36 | 49.03 | ABBOTSFORD A | 1100030 | 1951-01-01 | 1951-1955 | 01 | 01 | NA | 4.4 | ⋯ | 0.0 | NA | 21.3 | NA | NA | NA | NA | NA | NA | NA |\n",
       "| -122.36 | 49.03 | ABBOTSFORD A | 1100030 | 1951-01-02 | 1951-1955 | 01 | 02 | NA | 6.1 | ⋯ | 0.0 | NA | 32.0 | NA | NA | NA | NA | NA | NA | NA |\n",
       "| -122.36 | 49.03 | ABBOTSFORD A | 1100030 | 1951-01-03 | 1951-1955 | 01 | 03 | NA | 5.0 | ⋯ | 0.5 | NA |  1.3 | NA | NA | NA | NA | NA | NA | NA |\n",
       "| ⋮ | ⋮ | ⋮ | ⋮ | ⋮ | ⋮ | ⋮ | ⋮ | ⋮ | ⋮ | ⋱ | ⋮ | ⋮ | ⋮ | ⋮ | ⋮ | ⋮ | ⋮ | ⋮ | ⋮ | ⋮ |\n",
       "| -122.36 | 49.03 | ABBOTSFORD A | 1100030 | 1955-12-29 | 1951-1955 | 12 | 29 | NA | 1.7 | ⋯ | 0 | NA | 0 | NA | 0 | NA | NA | NA | &lt;31 | NA |\n",
       "| -122.36 | 49.03 | ABBOTSFORD A | 1100030 | 1955-12-30 | 1951-1955 | 12 | 30 | NA | 3.9 | ⋯ | 0 | NA | 0 | NA | 0 | NA | NA | NA | &lt;31 | NA |\n",
       "| -122.36 | 49.03 | ABBOTSFORD A | 1100030 | 1955-12-31 | 1951-1955 | 12 | 31 | NA | 0.6 | ⋯ | 0 | NA | 0 | NA | 0 | NA | NA | NA | &lt;31 | NA |\n",
       "\n"
      ],
      "text/plain": [
       "     Longitude (x) Latitude (y) Station Name Climate ID Date/Time  Year     \n",
       "1    -122.36       49.03        ABBOTSFORD A 1100030    1951-01-01 1951-1955\n",
       "2    -122.36       49.03        ABBOTSFORD A 1100030    1951-01-02 1951-1955\n",
       "3    -122.36       49.03        ABBOTSFORD A 1100030    1951-01-03 1951-1955\n",
       "⋮    ⋮             ⋮            ⋮            ⋮          ⋮          ⋮        \n",
       "1824 -122.36       49.03        ABBOTSFORD A 1100030    1955-12-29 1951-1955\n",
       "1825 -122.36       49.03        ABBOTSFORD A 1100030    1955-12-30 1951-1955\n",
       "1826 -122.36       49.03        ABBOTSFORD A 1100030    1955-12-31 1951-1955\n",
       "     Month Day Data Quality Max Temp (°C) ⋯ Total Snow (cm) Total Snow Flag\n",
       "1    01    01  NA           4.4           ⋯ 0.0             NA             \n",
       "2    01    02  NA           6.1           ⋯ 0.0             NA             \n",
       "3    01    03  NA           5.0           ⋯ 0.5             NA             \n",
       "⋮    ⋮     ⋮   ⋮            ⋮             ⋱ ⋮               ⋮              \n",
       "1824 12    29  NA           1.7           ⋯ 0               NA             \n",
       "1825 12    30  NA           3.9           ⋯ 0               NA             \n",
       "1826 12    31  NA           0.6           ⋯ 0               NA             \n",
       "     Total Precip (mm) Total Precip Flag Snow on Grnd (cm) Snow on Grnd Flag\n",
       "1    21.3              NA                NA                NA               \n",
       "2    32.0              NA                NA                NA               \n",
       "3     1.3              NA                NA                NA               \n",
       "⋮    ⋮                 ⋮                 ⋮                 ⋮                \n",
       "1824 0                 NA                0                 NA               \n",
       "1825 0                 NA                0                 NA               \n",
       "1826 0                 NA                0                 NA               \n",
       "     Dir of Max Gust (10s deg) Dir of Max Gust Flag Spd of Max Gust (km/h)\n",
       "1    NA                        NA                   NA                    \n",
       "2    NA                        NA                   NA                    \n",
       "3    NA                        NA                   NA                    \n",
       "⋮    ⋮                         ⋮                    ⋮                     \n",
       "1824 NA                        NA                   <31                   \n",
       "1825 NA                        NA                   <31                   \n",
       "1826 NA                        NA                   <31                   \n",
       "     Spd of Max Gust Flag\n",
       "1    NA                  \n",
       "2    NA                  \n",
       "3    NA                  \n",
       "⋮    ⋮                   \n",
       "1824 NA                  \n",
       "1825 NA                  \n",
       "1826 NA                  "
      ]
     },
     "metadata": {},
     "output_type": "display_data"
    }
   ],
   "source": [
    "climate_50s <- climate_50s %>%\n",
    "                  mutate(Year = \"1951-1955\")\n",
    "climate_50s"
   ]
  },
  {
   "cell_type": "code",
   "execution_count": 5,
   "id": "90bfc5f2-3905-4ad0-8d48-47f23540b86e",
   "metadata": {},
   "outputs": [
    {
     "data": {
      "text/html": [
       "<table class=\"dataframe\">\n",
       "<caption>A spec_tbl_df: 1826 × 31</caption>\n",
       "<thead>\n",
       "\t<tr><th scope=col>Longitude (x)</th><th scope=col>Latitude (y)</th><th scope=col>Station Name</th><th scope=col>Climate ID</th><th scope=col>Date/Time</th><th scope=col>Year</th><th scope=col>Month</th><th scope=col>Day</th><th scope=col>Data Quality</th><th scope=col>Max Temp (°C)</th><th scope=col>⋯</th><th scope=col>Total Snow (cm)</th><th scope=col>Total Snow Flag</th><th scope=col>Total Precip (mm)</th><th scope=col>Total Precip Flag</th><th scope=col>Snow on Grnd (cm)</th><th scope=col>Snow on Grnd Flag</th><th scope=col>Dir of Max Gust (10s deg)</th><th scope=col>Dir of Max Gust Flag</th><th scope=col>Spd of Max Gust (km/h)</th><th scope=col>Spd of Max Gust Flag</th></tr>\n",
       "\t<tr><th scope=col>&lt;dbl&gt;</th><th scope=col>&lt;dbl&gt;</th><th scope=col>&lt;chr&gt;</th><th scope=col>&lt;dbl&gt;</th><th scope=col>&lt;date&gt;</th><th scope=col>&lt;chr&gt;</th><th scope=col>&lt;chr&gt;</th><th scope=col>&lt;chr&gt;</th><th scope=col>&lt;lgl&gt;</th><th scope=col>&lt;dbl&gt;</th><th scope=col>⋯</th><th scope=col>&lt;dbl&gt;</th><th scope=col>&lt;lgl&gt;</th><th scope=col>&lt;dbl&gt;</th><th scope=col>&lt;lgl&gt;</th><th scope=col>&lt;dbl&gt;</th><th scope=col>&lt;lgl&gt;</th><th scope=col>&lt;dbl&gt;</th><th scope=col>&lt;chr&gt;</th><th scope=col>&lt;chr&gt;</th><th scope=col>&lt;chr&gt;</th></tr>\n",
       "</thead>\n",
       "<tbody>\n",
       "\t<tr><td>-122.36</td><td>49.03</td><td>ABBOTSFORD A</td><td>1100030</td><td>2001-01-01</td><td>2001-2005</td><td>01</td><td>01</td><td>NA</td><td>10.0</td><td>⋯</td><td>0</td><td>NA</td><td>0.0</td><td>NA</td><td>0</td><td>NA</td><td>NA</td><td>NA</td><td>&lt;31</td><td>NA</td></tr>\n",
       "\t<tr><td>-122.36</td><td>49.03</td><td>ABBOTSFORD A</td><td>1100030</td><td>2001-01-02</td><td>2001-2005</td><td>01</td><td>02</td><td>NA</td><td> 9.8</td><td>⋯</td><td>0</td><td>NA</td><td>0.6</td><td>NA</td><td>0</td><td>NA</td><td>NA</td><td>NA</td><td>&lt;31</td><td>NA</td></tr>\n",
       "\t<tr><td>-122.36</td><td>49.03</td><td>ABBOTSFORD A</td><td>1100030</td><td>2001-01-03</td><td>2001-2005</td><td>01</td><td>03</td><td>NA</td><td>11.2</td><td>⋯</td><td>0</td><td>NA</td><td>8.0</td><td>NA</td><td>0</td><td>NA</td><td>NA</td><td>NA</td><td>&lt;31</td><td>NA</td></tr>\n",
       "\t<tr><td>⋮</td><td>⋮</td><td>⋮</td><td>⋮</td><td>⋮</td><td>⋮</td><td>⋮</td><td>⋮</td><td>⋮</td><td>⋮</td><td>⋱</td><td>⋮</td><td>⋮</td><td>⋮</td><td>⋮</td><td>⋮</td><td>⋮</td><td>⋮</td><td>⋮</td><td>⋮</td><td>⋮</td></tr>\n",
       "\t<tr><td>-122.36</td><td>49.03</td><td>ABBOTSFORD A</td><td>1100030</td><td>2005-12-29</td><td>2001-2005</td><td>12</td><td>29</td><td>NA</td><td>7.7</td><td>⋯</td><td>0</td><td>NA</td><td> 1.0</td><td>NA</td><td>0</td><td>NA</td><td>NA</td><td>NA</td><td>&lt;31</td><td>NA</td></tr>\n",
       "\t<tr><td>-122.36</td><td>49.03</td><td>ABBOTSFORD A</td><td>1100030</td><td>2005-12-30</td><td>2001-2005</td><td>12</td><td>30</td><td>NA</td><td>8.0</td><td>⋯</td><td>0</td><td>NA</td><td> 9.6</td><td>NA</td><td>0</td><td>NA</td><td>NA</td><td>NA</td><td>&lt;31</td><td>NA</td></tr>\n",
       "\t<tr><td>-122.36</td><td>49.03</td><td>ABBOTSFORD A</td><td>1100030</td><td>2005-12-31</td><td>2001-2005</td><td>12</td><td>31</td><td>NA</td><td>7.0</td><td>⋯</td><td>0</td><td>NA</td><td>17.8</td><td>NA</td><td>0</td><td>NA</td><td>NA</td><td>NA</td><td>&lt;31</td><td>NA</td></tr>\n",
       "</tbody>\n",
       "</table>\n"
      ],
      "text/latex": [
       "A spec\\_tbl\\_df: 1826 × 31\n",
       "\\begin{tabular}{lllllllllllllllllllll}\n",
       " Longitude (x) & Latitude (y) & Station Name & Climate ID & Date/Time & Year & Month & Day & Data Quality & Max Temp (°C) & ⋯ & Total Snow (cm) & Total Snow Flag & Total Precip (mm) & Total Precip Flag & Snow on Grnd (cm) & Snow on Grnd Flag & Dir of Max Gust (10s deg) & Dir of Max Gust Flag & Spd of Max Gust (km/h) & Spd of Max Gust Flag\\\\\n",
       " <dbl> & <dbl> & <chr> & <dbl> & <date> & <chr> & <chr> & <chr> & <lgl> & <dbl> & ⋯ & <dbl> & <lgl> & <dbl> & <lgl> & <dbl> & <lgl> & <dbl> & <chr> & <chr> & <chr>\\\\\n",
       "\\hline\n",
       "\t -122.36 & 49.03 & ABBOTSFORD A & 1100030 & 2001-01-01 & 2001-2005 & 01 & 01 & NA & 10.0 & ⋯ & 0 & NA & 0.0 & NA & 0 & NA & NA & NA & <31 & NA\\\\\n",
       "\t -122.36 & 49.03 & ABBOTSFORD A & 1100030 & 2001-01-02 & 2001-2005 & 01 & 02 & NA &  9.8 & ⋯ & 0 & NA & 0.6 & NA & 0 & NA & NA & NA & <31 & NA\\\\\n",
       "\t -122.36 & 49.03 & ABBOTSFORD A & 1100030 & 2001-01-03 & 2001-2005 & 01 & 03 & NA & 11.2 & ⋯ & 0 & NA & 8.0 & NA & 0 & NA & NA & NA & <31 & NA\\\\\n",
       "\t ⋮ & ⋮ & ⋮ & ⋮ & ⋮ & ⋮ & ⋮ & ⋮ & ⋮ & ⋮ & ⋱ & ⋮ & ⋮ & ⋮ & ⋮ & ⋮ & ⋮ & ⋮ & ⋮ & ⋮ & ⋮\\\\\n",
       "\t -122.36 & 49.03 & ABBOTSFORD A & 1100030 & 2005-12-29 & 2001-2005 & 12 & 29 & NA & 7.7 & ⋯ & 0 & NA &  1.0 & NA & 0 & NA & NA & NA & <31 & NA\\\\\n",
       "\t -122.36 & 49.03 & ABBOTSFORD A & 1100030 & 2005-12-30 & 2001-2005 & 12 & 30 & NA & 8.0 & ⋯ & 0 & NA &  9.6 & NA & 0 & NA & NA & NA & <31 & NA\\\\\n",
       "\t -122.36 & 49.03 & ABBOTSFORD A & 1100030 & 2005-12-31 & 2001-2005 & 12 & 31 & NA & 7.0 & ⋯ & 0 & NA & 17.8 & NA & 0 & NA & NA & NA & <31 & NA\\\\\n",
       "\\end{tabular}\n"
      ],
      "text/markdown": [
       "\n",
       "A spec_tbl_df: 1826 × 31\n",
       "\n",
       "| Longitude (x) &lt;dbl&gt; | Latitude (y) &lt;dbl&gt; | Station Name &lt;chr&gt; | Climate ID &lt;dbl&gt; | Date/Time &lt;date&gt; | Year &lt;chr&gt; | Month &lt;chr&gt; | Day &lt;chr&gt; | Data Quality &lt;lgl&gt; | Max Temp (°C) &lt;dbl&gt; | ⋯ ⋯ | Total Snow (cm) &lt;dbl&gt; | Total Snow Flag &lt;lgl&gt; | Total Precip (mm) &lt;dbl&gt; | Total Precip Flag &lt;lgl&gt; | Snow on Grnd (cm) &lt;dbl&gt; | Snow on Grnd Flag &lt;lgl&gt; | Dir of Max Gust (10s deg) &lt;dbl&gt; | Dir of Max Gust Flag &lt;chr&gt; | Spd of Max Gust (km/h) &lt;chr&gt; | Spd of Max Gust Flag &lt;chr&gt; |\n",
       "|---|---|---|---|---|---|---|---|---|---|---|---|---|---|---|---|---|---|---|---|---|\n",
       "| -122.36 | 49.03 | ABBOTSFORD A | 1100030 | 2001-01-01 | 2001-2005 | 01 | 01 | NA | 10.0 | ⋯ | 0 | NA | 0.0 | NA | 0 | NA | NA | NA | &lt;31 | NA |\n",
       "| -122.36 | 49.03 | ABBOTSFORD A | 1100030 | 2001-01-02 | 2001-2005 | 01 | 02 | NA |  9.8 | ⋯ | 0 | NA | 0.6 | NA | 0 | NA | NA | NA | &lt;31 | NA |\n",
       "| -122.36 | 49.03 | ABBOTSFORD A | 1100030 | 2001-01-03 | 2001-2005 | 01 | 03 | NA | 11.2 | ⋯ | 0 | NA | 8.0 | NA | 0 | NA | NA | NA | &lt;31 | NA |\n",
       "| ⋮ | ⋮ | ⋮ | ⋮ | ⋮ | ⋮ | ⋮ | ⋮ | ⋮ | ⋮ | ⋱ | ⋮ | ⋮ | ⋮ | ⋮ | ⋮ | ⋮ | ⋮ | ⋮ | ⋮ | ⋮ |\n",
       "| -122.36 | 49.03 | ABBOTSFORD A | 1100030 | 2005-12-29 | 2001-2005 | 12 | 29 | NA | 7.7 | ⋯ | 0 | NA |  1.0 | NA | 0 | NA | NA | NA | &lt;31 | NA |\n",
       "| -122.36 | 49.03 | ABBOTSFORD A | 1100030 | 2005-12-30 | 2001-2005 | 12 | 30 | NA | 8.0 | ⋯ | 0 | NA |  9.6 | NA | 0 | NA | NA | NA | &lt;31 | NA |\n",
       "| -122.36 | 49.03 | ABBOTSFORD A | 1100030 | 2005-12-31 | 2001-2005 | 12 | 31 | NA | 7.0 | ⋯ | 0 | NA | 17.8 | NA | 0 | NA | NA | NA | &lt;31 | NA |\n",
       "\n"
      ],
      "text/plain": [
       "     Longitude (x) Latitude (y) Station Name Climate ID Date/Time  Year     \n",
       "1    -122.36       49.03        ABBOTSFORD A 1100030    2001-01-01 2001-2005\n",
       "2    -122.36       49.03        ABBOTSFORD A 1100030    2001-01-02 2001-2005\n",
       "3    -122.36       49.03        ABBOTSFORD A 1100030    2001-01-03 2001-2005\n",
       "⋮    ⋮             ⋮            ⋮            ⋮          ⋮          ⋮        \n",
       "1824 -122.36       49.03        ABBOTSFORD A 1100030    2005-12-29 2001-2005\n",
       "1825 -122.36       49.03        ABBOTSFORD A 1100030    2005-12-30 2001-2005\n",
       "1826 -122.36       49.03        ABBOTSFORD A 1100030    2005-12-31 2001-2005\n",
       "     Month Day Data Quality Max Temp (°C) ⋯ Total Snow (cm) Total Snow Flag\n",
       "1    01    01  NA           10.0          ⋯ 0               NA             \n",
       "2    01    02  NA            9.8          ⋯ 0               NA             \n",
       "3    01    03  NA           11.2          ⋯ 0               NA             \n",
       "⋮    ⋮     ⋮   ⋮            ⋮             ⋱ ⋮               ⋮              \n",
       "1824 12    29  NA           7.7           ⋯ 0               NA             \n",
       "1825 12    30  NA           8.0           ⋯ 0               NA             \n",
       "1826 12    31  NA           7.0           ⋯ 0               NA             \n",
       "     Total Precip (mm) Total Precip Flag Snow on Grnd (cm) Snow on Grnd Flag\n",
       "1    0.0               NA                0                 NA               \n",
       "2    0.6               NA                0                 NA               \n",
       "3    8.0               NA                0                 NA               \n",
       "⋮    ⋮                 ⋮                 ⋮                 ⋮                \n",
       "1824  1.0              NA                0                 NA               \n",
       "1825  9.6              NA                0                 NA               \n",
       "1826 17.8              NA                0                 NA               \n",
       "     Dir of Max Gust (10s deg) Dir of Max Gust Flag Spd of Max Gust (km/h)\n",
       "1    NA                        NA                   <31                   \n",
       "2    NA                        NA                   <31                   \n",
       "3    NA                        NA                   <31                   \n",
       "⋮    ⋮                         ⋮                    ⋮                     \n",
       "1824 NA                        NA                   <31                   \n",
       "1825 NA                        NA                   <31                   \n",
       "1826 NA                        NA                   <31                   \n",
       "     Spd of Max Gust Flag\n",
       "1    NA                  \n",
       "2    NA                  \n",
       "3    NA                  \n",
       "⋮    ⋮                   \n",
       "1824 NA                  \n",
       "1825 NA                  \n",
       "1826 NA                  "
      ]
     },
     "metadata": {},
     "output_type": "display_data"
    }
   ],
   "source": [
    "climate_00s <- climate_00s %>%\n",
    "                  mutate(Year = \"2001-2005\")\n",
    "climate_00s"
   ]
  },
  {
   "cell_type": "code",
   "execution_count": 6,
   "id": "fdb21f9f-666a-48b5-aee4-f5ad5de1d049",
   "metadata": {},
   "outputs": [],
   "source": [
    "climate_change <- rbind(climate_50s,\n",
    "                        climate_00s) \n",
    "climate_change <- climate_change %>%\n",
    "                    mutate(Year = as.factor(Year))"
   ]
  },
  {
   "cell_type": "code",
   "execution_count": 7,
   "id": "4ea2fd3b-6f05-4bba-928d-c345eae6890a",
   "metadata": {},
   "outputs": [
    {
     "data": {
      "text/html": [
       "<table class=\"dataframe\">\n",
       "<caption>A spec_tbl_df: 3652 × 31</caption>\n",
       "<thead>\n",
       "\t<tr><th scope=col>Longitude (x)</th><th scope=col>Latitude (y)</th><th scope=col>Station Name</th><th scope=col>Climate ID</th><th scope=col>Date/Time</th><th scope=col>Year</th><th scope=col>Month</th><th scope=col>Day</th><th scope=col>Data Quality</th><th scope=col>Max Temp (°C)</th><th scope=col>⋯</th><th scope=col>Total Snow (cm)</th><th scope=col>Total Snow Flag</th><th scope=col>Total Precip (mm)</th><th scope=col>Total Precip Flag</th><th scope=col>Snow on Grnd (cm)</th><th scope=col>Snow on Grnd Flag</th><th scope=col>Dir of Max Gust (10s deg)</th><th scope=col>Dir of Max Gust Flag</th><th scope=col>Spd of Max Gust (km/h)</th><th scope=col>Spd of Max Gust Flag</th></tr>\n",
       "\t<tr><th scope=col>&lt;dbl&gt;</th><th scope=col>&lt;dbl&gt;</th><th scope=col>&lt;chr&gt;</th><th scope=col>&lt;dbl&gt;</th><th scope=col>&lt;date&gt;</th><th scope=col>&lt;fct&gt;</th><th scope=col>&lt;chr&gt;</th><th scope=col>&lt;chr&gt;</th><th scope=col>&lt;lgl&gt;</th><th scope=col>&lt;dbl&gt;</th><th scope=col>⋯</th><th scope=col>&lt;dbl&gt;</th><th scope=col>&lt;lgl&gt;</th><th scope=col>&lt;dbl&gt;</th><th scope=col>&lt;lgl&gt;</th><th scope=col>&lt;dbl&gt;</th><th scope=col>&lt;lgl&gt;</th><th scope=col>&lt;dbl&gt;</th><th scope=col>&lt;chr&gt;</th><th scope=col>&lt;chr&gt;</th><th scope=col>&lt;chr&gt;</th></tr>\n",
       "</thead>\n",
       "<tbody>\n",
       "\t<tr><td>-122.36</td><td>49.03</td><td>ABBOTSFORD A</td><td>1100030</td><td>1951-01-01</td><td>1951-1955</td><td>01</td><td>01</td><td>NA</td><td>4.4</td><td>⋯</td><td>0.0</td><td>NA</td><td>21.3</td><td>NA</td><td>NA</td><td>NA</td><td>NA</td><td>NA</td><td>NA</td><td>NA</td></tr>\n",
       "\t<tr><td>-122.36</td><td>49.03</td><td>ABBOTSFORD A</td><td>1100030</td><td>1951-01-02</td><td>1951-1955</td><td>01</td><td>02</td><td>NA</td><td>6.1</td><td>⋯</td><td>0.0</td><td>NA</td><td>32.0</td><td>NA</td><td>NA</td><td>NA</td><td>NA</td><td>NA</td><td>NA</td><td>NA</td></tr>\n",
       "\t<tr><td>-122.36</td><td>49.03</td><td>ABBOTSFORD A</td><td>1100030</td><td>1951-01-03</td><td>1951-1955</td><td>01</td><td>03</td><td>NA</td><td>5.0</td><td>⋯</td><td>0.5</td><td>NA</td><td> 1.3</td><td>NA</td><td>NA</td><td>NA</td><td>NA</td><td>NA</td><td>NA</td><td>NA</td></tr>\n",
       "\t<tr><td>⋮</td><td>⋮</td><td>⋮</td><td>⋮</td><td>⋮</td><td>⋮</td><td>⋮</td><td>⋮</td><td>⋮</td><td>⋮</td><td>⋱</td><td>⋮</td><td>⋮</td><td>⋮</td><td>⋮</td><td>⋮</td><td>⋮</td><td>⋮</td><td>⋮</td><td>⋮</td><td>⋮</td></tr>\n",
       "\t<tr><td>-122.36</td><td>49.03</td><td>ABBOTSFORD A</td><td>1100030</td><td>2005-12-29</td><td>2001-2005</td><td>12</td><td>29</td><td>NA</td><td>7.7</td><td>⋯</td><td>0</td><td>NA</td><td> 1.0</td><td>NA</td><td>0</td><td>NA</td><td>NA</td><td>NA</td><td>&lt;31</td><td>NA</td></tr>\n",
       "\t<tr><td>-122.36</td><td>49.03</td><td>ABBOTSFORD A</td><td>1100030</td><td>2005-12-30</td><td>2001-2005</td><td>12</td><td>30</td><td>NA</td><td>8.0</td><td>⋯</td><td>0</td><td>NA</td><td> 9.6</td><td>NA</td><td>0</td><td>NA</td><td>NA</td><td>NA</td><td>&lt;31</td><td>NA</td></tr>\n",
       "\t<tr><td>-122.36</td><td>49.03</td><td>ABBOTSFORD A</td><td>1100030</td><td>2005-12-31</td><td>2001-2005</td><td>12</td><td>31</td><td>NA</td><td>7.0</td><td>⋯</td><td>0</td><td>NA</td><td>17.8</td><td>NA</td><td>0</td><td>NA</td><td>NA</td><td>NA</td><td>&lt;31</td><td>NA</td></tr>\n",
       "</tbody>\n",
       "</table>\n"
      ],
      "text/latex": [
       "A spec\\_tbl\\_df: 3652 × 31\n",
       "\\begin{tabular}{lllllllllllllllllllll}\n",
       " Longitude (x) & Latitude (y) & Station Name & Climate ID & Date/Time & Year & Month & Day & Data Quality & Max Temp (°C) & ⋯ & Total Snow (cm) & Total Snow Flag & Total Precip (mm) & Total Precip Flag & Snow on Grnd (cm) & Snow on Grnd Flag & Dir of Max Gust (10s deg) & Dir of Max Gust Flag & Spd of Max Gust (km/h) & Spd of Max Gust Flag\\\\\n",
       " <dbl> & <dbl> & <chr> & <dbl> & <date> & <fct> & <chr> & <chr> & <lgl> & <dbl> & ⋯ & <dbl> & <lgl> & <dbl> & <lgl> & <dbl> & <lgl> & <dbl> & <chr> & <chr> & <chr>\\\\\n",
       "\\hline\n",
       "\t -122.36 & 49.03 & ABBOTSFORD A & 1100030 & 1951-01-01 & 1951-1955 & 01 & 01 & NA & 4.4 & ⋯ & 0.0 & NA & 21.3 & NA & NA & NA & NA & NA & NA & NA\\\\\n",
       "\t -122.36 & 49.03 & ABBOTSFORD A & 1100030 & 1951-01-02 & 1951-1955 & 01 & 02 & NA & 6.1 & ⋯ & 0.0 & NA & 32.0 & NA & NA & NA & NA & NA & NA & NA\\\\\n",
       "\t -122.36 & 49.03 & ABBOTSFORD A & 1100030 & 1951-01-03 & 1951-1955 & 01 & 03 & NA & 5.0 & ⋯ & 0.5 & NA &  1.3 & NA & NA & NA & NA & NA & NA & NA\\\\\n",
       "\t ⋮ & ⋮ & ⋮ & ⋮ & ⋮ & ⋮ & ⋮ & ⋮ & ⋮ & ⋮ & ⋱ & ⋮ & ⋮ & ⋮ & ⋮ & ⋮ & ⋮ & ⋮ & ⋮ & ⋮ & ⋮\\\\\n",
       "\t -122.36 & 49.03 & ABBOTSFORD A & 1100030 & 2005-12-29 & 2001-2005 & 12 & 29 & NA & 7.7 & ⋯ & 0 & NA &  1.0 & NA & 0 & NA & NA & NA & <31 & NA\\\\\n",
       "\t -122.36 & 49.03 & ABBOTSFORD A & 1100030 & 2005-12-30 & 2001-2005 & 12 & 30 & NA & 8.0 & ⋯ & 0 & NA &  9.6 & NA & 0 & NA & NA & NA & <31 & NA\\\\\n",
       "\t -122.36 & 49.03 & ABBOTSFORD A & 1100030 & 2005-12-31 & 2001-2005 & 12 & 31 & NA & 7.0 & ⋯ & 0 & NA & 17.8 & NA & 0 & NA & NA & NA & <31 & NA\\\\\n",
       "\\end{tabular}\n"
      ],
      "text/markdown": [
       "\n",
       "A spec_tbl_df: 3652 × 31\n",
       "\n",
       "| Longitude (x) &lt;dbl&gt; | Latitude (y) &lt;dbl&gt; | Station Name &lt;chr&gt; | Climate ID &lt;dbl&gt; | Date/Time &lt;date&gt; | Year &lt;fct&gt; | Month &lt;chr&gt; | Day &lt;chr&gt; | Data Quality &lt;lgl&gt; | Max Temp (°C) &lt;dbl&gt; | ⋯ ⋯ | Total Snow (cm) &lt;dbl&gt; | Total Snow Flag &lt;lgl&gt; | Total Precip (mm) &lt;dbl&gt; | Total Precip Flag &lt;lgl&gt; | Snow on Grnd (cm) &lt;dbl&gt; | Snow on Grnd Flag &lt;lgl&gt; | Dir of Max Gust (10s deg) &lt;dbl&gt; | Dir of Max Gust Flag &lt;chr&gt; | Spd of Max Gust (km/h) &lt;chr&gt; | Spd of Max Gust Flag &lt;chr&gt; |\n",
       "|---|---|---|---|---|---|---|---|---|---|---|---|---|---|---|---|---|---|---|---|---|\n",
       "| -122.36 | 49.03 | ABBOTSFORD A | 1100030 | 1951-01-01 | 1951-1955 | 01 | 01 | NA | 4.4 | ⋯ | 0.0 | NA | 21.3 | NA | NA | NA | NA | NA | NA | NA |\n",
       "| -122.36 | 49.03 | ABBOTSFORD A | 1100030 | 1951-01-02 | 1951-1955 | 01 | 02 | NA | 6.1 | ⋯ | 0.0 | NA | 32.0 | NA | NA | NA | NA | NA | NA | NA |\n",
       "| -122.36 | 49.03 | ABBOTSFORD A | 1100030 | 1951-01-03 | 1951-1955 | 01 | 03 | NA | 5.0 | ⋯ | 0.5 | NA |  1.3 | NA | NA | NA | NA | NA | NA | NA |\n",
       "| ⋮ | ⋮ | ⋮ | ⋮ | ⋮ | ⋮ | ⋮ | ⋮ | ⋮ | ⋮ | ⋱ | ⋮ | ⋮ | ⋮ | ⋮ | ⋮ | ⋮ | ⋮ | ⋮ | ⋮ | ⋮ |\n",
       "| -122.36 | 49.03 | ABBOTSFORD A | 1100030 | 2005-12-29 | 2001-2005 | 12 | 29 | NA | 7.7 | ⋯ | 0 | NA |  1.0 | NA | 0 | NA | NA | NA | &lt;31 | NA |\n",
       "| -122.36 | 49.03 | ABBOTSFORD A | 1100030 | 2005-12-30 | 2001-2005 | 12 | 30 | NA | 8.0 | ⋯ | 0 | NA |  9.6 | NA | 0 | NA | NA | NA | &lt;31 | NA |\n",
       "| -122.36 | 49.03 | ABBOTSFORD A | 1100030 | 2005-12-31 | 2001-2005 | 12 | 31 | NA | 7.0 | ⋯ | 0 | NA | 17.8 | NA | 0 | NA | NA | NA | &lt;31 | NA |\n",
       "\n"
      ],
      "text/plain": [
       "     Longitude (x) Latitude (y) Station Name Climate ID Date/Time  Year     \n",
       "1    -122.36       49.03        ABBOTSFORD A 1100030    1951-01-01 1951-1955\n",
       "2    -122.36       49.03        ABBOTSFORD A 1100030    1951-01-02 1951-1955\n",
       "3    -122.36       49.03        ABBOTSFORD A 1100030    1951-01-03 1951-1955\n",
       "⋮    ⋮             ⋮            ⋮            ⋮          ⋮          ⋮        \n",
       "3650 -122.36       49.03        ABBOTSFORD A 1100030    2005-12-29 2001-2005\n",
       "3651 -122.36       49.03        ABBOTSFORD A 1100030    2005-12-30 2001-2005\n",
       "3652 -122.36       49.03        ABBOTSFORD A 1100030    2005-12-31 2001-2005\n",
       "     Month Day Data Quality Max Temp (°C) ⋯ Total Snow (cm) Total Snow Flag\n",
       "1    01    01  NA           4.4           ⋯ 0.0             NA             \n",
       "2    01    02  NA           6.1           ⋯ 0.0             NA             \n",
       "3    01    03  NA           5.0           ⋯ 0.5             NA             \n",
       "⋮    ⋮     ⋮   ⋮            ⋮             ⋱ ⋮               ⋮              \n",
       "3650 12    29  NA           7.7           ⋯ 0               NA             \n",
       "3651 12    30  NA           8.0           ⋯ 0               NA             \n",
       "3652 12    31  NA           7.0           ⋯ 0               NA             \n",
       "     Total Precip (mm) Total Precip Flag Snow on Grnd (cm) Snow on Grnd Flag\n",
       "1    21.3              NA                NA                NA               \n",
       "2    32.0              NA                NA                NA               \n",
       "3     1.3              NA                NA                NA               \n",
       "⋮    ⋮                 ⋮                 ⋮                 ⋮                \n",
       "3650  1.0              NA                0                 NA               \n",
       "3651  9.6              NA                0                 NA               \n",
       "3652 17.8              NA                0                 NA               \n",
       "     Dir of Max Gust (10s deg) Dir of Max Gust Flag Spd of Max Gust (km/h)\n",
       "1    NA                        NA                   NA                    \n",
       "2    NA                        NA                   NA                    \n",
       "3    NA                        NA                   NA                    \n",
       "⋮    ⋮                         ⋮                    ⋮                     \n",
       "3650 NA                        NA                   <31                   \n",
       "3651 NA                        NA                   <31                   \n",
       "3652 NA                        NA                   <31                   \n",
       "     Spd of Max Gust Flag\n",
       "1    NA                  \n",
       "2    NA                  \n",
       "3    NA                  \n",
       "⋮    ⋮                   \n",
       "3650 NA                  \n",
       "3651 NA                  \n",
       "3652 NA                  "
      ]
     },
     "metadata": {},
     "output_type": "display_data"
    }
   ],
   "source": [
    "climate_change"
   ]
  },
  {
   "cell_type": "code",
   "execution_count": 8,
   "id": "cbb4edc4-f76e-48a2-b5d9-3d1a7f63a754",
   "metadata": {},
   "outputs": [
    {
     "data": {
      "text/html": [
       "<table class=\"dataframe\">\n",
       "<caption>A tibble: 3652 × 9</caption>\n",
       "<thead>\n",
       "\t<tr><th scope=col>Year</th><th scope=col>Month</th><th scope=col>Max_Temp</th><th scope=col>Min_Temp</th><th scope=col>Mean_Temp</th><th scope=col>Heat_Deg_Days</th><th scope=col>Cool_Deg_Days</th><th scope=col>Total_Rain</th><th scope=col>Total_Precip</th></tr>\n",
       "\t<tr><th scope=col>&lt;fct&gt;</th><th scope=col>&lt;chr&gt;</th><th scope=col>&lt;dbl&gt;</th><th scope=col>&lt;dbl&gt;</th><th scope=col>&lt;dbl&gt;</th><th scope=col>&lt;dbl&gt;</th><th scope=col>&lt;dbl&gt;</th><th scope=col>&lt;dbl&gt;</th><th scope=col>&lt;dbl&gt;</th></tr>\n",
       "</thead>\n",
       "<tbody>\n",
       "\t<tr><td>1951-1955</td><td>01</td><td>4.4</td><td>2.8</td><td>3.6</td><td>14.4</td><td>0</td><td>21.3</td><td>21.3</td></tr>\n",
       "\t<tr><td>1951-1955</td><td>01</td><td>6.1</td><td>1.1</td><td>3.6</td><td>14.4</td><td>0</td><td>32.0</td><td>32.0</td></tr>\n",
       "\t<tr><td>1951-1955</td><td>01</td><td>5.0</td><td>3.3</td><td>4.2</td><td>13.8</td><td>0</td><td> 0.8</td><td> 1.3</td></tr>\n",
       "\t<tr><td>⋮</td><td>⋮</td><td>⋮</td><td>⋮</td><td>⋮</td><td>⋮</td><td>⋮</td><td>⋮</td><td>⋮</td></tr>\n",
       "\t<tr><td>2001-2005</td><td>12</td><td>7.7</td><td>2.7</td><td>5.2</td><td>12.8</td><td>0</td><td> 1.0</td><td> 1.0</td></tr>\n",
       "\t<tr><td>2001-2005</td><td>12</td><td>8.0</td><td>5.1</td><td>6.6</td><td>11.4</td><td>0</td><td> 9.6</td><td> 9.6</td></tr>\n",
       "\t<tr><td>2001-2005</td><td>12</td><td>7.0</td><td>5.4</td><td>6.2</td><td>11.8</td><td>0</td><td>17.8</td><td>17.8</td></tr>\n",
       "</tbody>\n",
       "</table>\n"
      ],
      "text/latex": [
       "A tibble: 3652 × 9\n",
       "\\begin{tabular}{lllllllll}\n",
       " Year & Month & Max\\_Temp & Min\\_Temp & Mean\\_Temp & Heat\\_Deg\\_Days & Cool\\_Deg\\_Days & Total\\_Rain & Total\\_Precip\\\\\n",
       " <fct> & <chr> & <dbl> & <dbl> & <dbl> & <dbl> & <dbl> & <dbl> & <dbl>\\\\\n",
       "\\hline\n",
       "\t 1951-1955 & 01 & 4.4 & 2.8 & 3.6 & 14.4 & 0 & 21.3 & 21.3\\\\\n",
       "\t 1951-1955 & 01 & 6.1 & 1.1 & 3.6 & 14.4 & 0 & 32.0 & 32.0\\\\\n",
       "\t 1951-1955 & 01 & 5.0 & 3.3 & 4.2 & 13.8 & 0 &  0.8 &  1.3\\\\\n",
       "\t ⋮ & ⋮ & ⋮ & ⋮ & ⋮ & ⋮ & ⋮ & ⋮ & ⋮\\\\\n",
       "\t 2001-2005 & 12 & 7.7 & 2.7 & 5.2 & 12.8 & 0 &  1.0 &  1.0\\\\\n",
       "\t 2001-2005 & 12 & 8.0 & 5.1 & 6.6 & 11.4 & 0 &  9.6 &  9.6\\\\\n",
       "\t 2001-2005 & 12 & 7.0 & 5.4 & 6.2 & 11.8 & 0 & 17.8 & 17.8\\\\\n",
       "\\end{tabular}\n"
      ],
      "text/markdown": [
       "\n",
       "A tibble: 3652 × 9\n",
       "\n",
       "| Year &lt;fct&gt; | Month &lt;chr&gt; | Max_Temp &lt;dbl&gt; | Min_Temp &lt;dbl&gt; | Mean_Temp &lt;dbl&gt; | Heat_Deg_Days &lt;dbl&gt; | Cool_Deg_Days &lt;dbl&gt; | Total_Rain &lt;dbl&gt; | Total_Precip &lt;dbl&gt; |\n",
       "|---|---|---|---|---|---|---|---|---|\n",
       "| 1951-1955 | 01 | 4.4 | 2.8 | 3.6 | 14.4 | 0 | 21.3 | 21.3 |\n",
       "| 1951-1955 | 01 | 6.1 | 1.1 | 3.6 | 14.4 | 0 | 32.0 | 32.0 |\n",
       "| 1951-1955 | 01 | 5.0 | 3.3 | 4.2 | 13.8 | 0 |  0.8 |  1.3 |\n",
       "| ⋮ | ⋮ | ⋮ | ⋮ | ⋮ | ⋮ | ⋮ | ⋮ | ⋮ |\n",
       "| 2001-2005 | 12 | 7.7 | 2.7 | 5.2 | 12.8 | 0 |  1.0 |  1.0 |\n",
       "| 2001-2005 | 12 | 8.0 | 5.1 | 6.6 | 11.4 | 0 |  9.6 |  9.6 |\n",
       "| 2001-2005 | 12 | 7.0 | 5.4 | 6.2 | 11.8 | 0 | 17.8 | 17.8 |\n",
       "\n"
      ],
      "text/plain": [
       "     Year      Month Max_Temp Min_Temp Mean_Temp Heat_Deg_Days Cool_Deg_Days\n",
       "1    1951-1955 01    4.4      2.8      3.6       14.4          0            \n",
       "2    1951-1955 01    6.1      1.1      3.6       14.4          0            \n",
       "3    1951-1955 01    5.0      3.3      4.2       13.8          0            \n",
       "⋮    ⋮         ⋮     ⋮        ⋮        ⋮         ⋮             ⋮            \n",
       "3650 2001-2005 12    7.7      2.7      5.2       12.8          0            \n",
       "3651 2001-2005 12    8.0      5.1      6.6       11.4          0            \n",
       "3652 2001-2005 12    7.0      5.4      6.2       11.8          0            \n",
       "     Total_Rain Total_Precip\n",
       "1    21.3       21.3        \n",
       "2    32.0       32.0        \n",
       "3     0.8        1.3        \n",
       "⋮    ⋮          ⋮           \n",
       "3650  1.0        1.0        \n",
       "3651  9.6        9.6        \n",
       "3652 17.8       17.8        "
      ]
     },
     "metadata": {},
     "output_type": "display_data"
    }
   ],
   "source": [
    "Climate_change_rename <- climate_change %>%\n",
    "    select(\"Year\", \"Month\", \"Max Temp (°C)\", \"Min Temp (°C)\",\n",
    "           \"Mean Temp (°C)\", \"Heat Deg Days (°C)\", \"Cool Deg Days (°C)\", \n",
    "           \"Total Rain (mm)\", \"Total Precip (mm)\") %>%\n",
    "    rename(\"Max_Temp\" = \"Max Temp (°C)\",\n",
    "         \"Min_Temp\" = \"Min Temp (°C)\",\n",
    "         \"Mean_Temp\" = \"Mean Temp (°C)\",\n",
    "         \"Heat_Deg_Days\" = \"Heat Deg Days (°C)\",\n",
    "         \"Cool_Deg_Days\" = \"Cool Deg Days (°C)\",\n",
    "         \"Total_Rain\" = \"Total Rain (mm)\",\n",
    "         \"Total_Precip\" = \"Total Precip (mm)\")\n",
    "Climate_change_rename"
   ]
  },
  {
   "cell_type": "code",
   "execution_count": 9,
   "id": "086f7940-0d09-473c-b872-fc1e83abd93a",
   "metadata": {},
   "outputs": [
    {
     "data": {
      "text/html": [
       "<table class=\"dataframe\">\n",
       "<caption>A tibble: 3652 × 2</caption>\n",
       "<thead>\n",
       "\t<tr><th scope=col>Year</th><th scope=col>Mean_Temp</th></tr>\n",
       "\t<tr><th scope=col>&lt;fct&gt;</th><th scope=col>&lt;dbl&gt;</th></tr>\n",
       "</thead>\n",
       "<tbody>\n",
       "\t<tr><td>1951-1955</td><td>3.6</td></tr>\n",
       "\t<tr><td>1951-1955</td><td>3.6</td></tr>\n",
       "\t<tr><td>1951-1955</td><td>4.2</td></tr>\n",
       "\t<tr><td>⋮</td><td>⋮</td></tr>\n",
       "\t<tr><td>2001-2005</td><td>5.2</td></tr>\n",
       "\t<tr><td>2001-2005</td><td>6.6</td></tr>\n",
       "\t<tr><td>2001-2005</td><td>6.2</td></tr>\n",
       "</tbody>\n",
       "</table>\n"
      ],
      "text/latex": [
       "A tibble: 3652 × 2\n",
       "\\begin{tabular}{ll}\n",
       " Year & Mean\\_Temp\\\\\n",
       " <fct> & <dbl>\\\\\n",
       "\\hline\n",
       "\t 1951-1955 & 3.6\\\\\n",
       "\t 1951-1955 & 3.6\\\\\n",
       "\t 1951-1955 & 4.2\\\\\n",
       "\t ⋮ & ⋮\\\\\n",
       "\t 2001-2005 & 5.2\\\\\n",
       "\t 2001-2005 & 6.6\\\\\n",
       "\t 2001-2005 & 6.2\\\\\n",
       "\\end{tabular}\n"
      ],
      "text/markdown": [
       "\n",
       "A tibble: 3652 × 2\n",
       "\n",
       "| Year &lt;fct&gt; | Mean_Temp &lt;dbl&gt; |\n",
       "|---|---|\n",
       "| 1951-1955 | 3.6 |\n",
       "| 1951-1955 | 3.6 |\n",
       "| 1951-1955 | 4.2 |\n",
       "| ⋮ | ⋮ |\n",
       "| 2001-2005 | 5.2 |\n",
       "| 2001-2005 | 6.6 |\n",
       "| 2001-2005 | 6.2 |\n",
       "\n"
      ],
      "text/plain": [
       "     Year      Mean_Temp\n",
       "1    1951-1955 3.6      \n",
       "2    1951-1955 3.6      \n",
       "3    1951-1955 4.2      \n",
       "⋮    ⋮         ⋮        \n",
       "3650 2001-2005 5.2      \n",
       "3651 2001-2005 6.6      \n",
       "3652 2001-2005 6.2      "
      ]
     },
     "metadata": {},
     "output_type": "display_data"
    }
   ],
   "source": [
    "station_temp <- Climate_change_rename %>%\n",
    "    filter(!is.na(Mean_Temp)) %>%\n",
    "    select(Year, Mean_Temp)\n",
    "station_temp"
   ]
  },
  {
   "cell_type": "markdown",
   "id": "d8681911-077a-4726-bdd9-515fea8c29cc",
   "metadata": {},
   "source": [
    "H_0: The mean of the Daily Mean Temperature in the 1950s is the same as the mean of the Daily Mean Temperature in the 2000s. \n"
   ]
  },
  {
   "cell_type": "markdown",
   "id": "a6f8376b-7b05-49c9-bfad-f0c193ba40a0",
   "metadata": {},
   "source": [
    "calculate observed test statistic"
   ]
  },
  {
   "cell_type": "code",
   "execution_count": 17,
   "id": "ae98712c-af66-4603-934b-a406596fde2d",
   "metadata": {},
   "outputs": [
    {
     "data": {
      "text/html": [
       "<table class=\"dataframe\">\n",
       "<caption>A infer: 1 × 1</caption>\n",
       "<thead>\n",
       "\t<tr><th scope=col>stat</th></tr>\n",
       "\t<tr><th scope=col>&lt;dbl&gt;</th></tr>\n",
       "</thead>\n",
       "<tbody>\n",
       "\t<tr><td>1.742059</td></tr>\n",
       "</tbody>\n",
       "</table>\n"
      ],
      "text/latex": [
       "A infer: 1 × 1\n",
       "\\begin{tabular}{l}\n",
       " stat\\\\\n",
       " <dbl>\\\\\n",
       "\\hline\n",
       "\t 1.742059\\\\\n",
       "\\end{tabular}\n"
      ],
      "text/markdown": [
       "\n",
       "A infer: 1 × 1\n",
       "\n",
       "| stat &lt;dbl&gt; |\n",
       "|---|\n",
       "| 1.742059 |\n",
       "\n"
      ],
      "text/plain": [
       "  stat    \n",
       "1 1.742059"
      ]
     },
     "metadata": {},
     "output_type": "display_data"
    }
   ],
   "source": [
    "obs_diff_in_temp <- station_temp %>%\n",
    "    specify(formula = Mean_Temp ~ Year) %>%\n",
    "    calculate(stat = \"diff in means\", order = c(\"2001-2005\", \"1951-1955\"))\n",
    "obs_diff_in_temp"
   ]
  },
  {
   "cell_type": "markdown",
   "id": "f0d14f43-58e0-45a7-b291-bccb8ccc834a",
   "metadata": {},
   "source": [
    "Simulating from the null distribution"
   ]
  },
  {
   "cell_type": "code",
   "execution_count": 18,
   "id": "af872787-53f7-464f-b022-089e679ec337",
   "metadata": {},
   "outputs": [
    {
     "data": {
      "text/html": [
       "<table class=\"dataframe\">\n",
       "<caption>A infer: 1000 × 2</caption>\n",
       "<thead>\n",
       "\t<tr><th scope=col>replicate</th><th scope=col>stat</th></tr>\n",
       "\t<tr><th scope=col>&lt;int&gt;</th><th scope=col>&lt;dbl&gt;</th></tr>\n",
       "</thead>\n",
       "<tbody>\n",
       "\t<tr><td>1</td><td> 0.1704272</td></tr>\n",
       "\t<tr><td>2</td><td>-0.0516977</td></tr>\n",
       "\t<tr><td>3</td><td>-0.0543264</td></tr>\n",
       "\t<tr><td>⋮</td><td>⋮</td></tr>\n",
       "\t<tr><td> 998</td><td>-0.2512596</td></tr>\n",
       "\t<tr><td> 999</td><td>-0.1530120</td></tr>\n",
       "\t<tr><td>1000</td><td>-0.3715225</td></tr>\n",
       "</tbody>\n",
       "</table>\n"
      ],
      "text/latex": [
       "A infer: 1000 × 2\n",
       "\\begin{tabular}{ll}\n",
       " replicate & stat\\\\\n",
       " <int> & <dbl>\\\\\n",
       "\\hline\n",
       "\t 1 &  0.1704272\\\\\n",
       "\t 2 & -0.0516977\\\\\n",
       "\t 3 & -0.0543264\\\\\n",
       "\t ⋮ & ⋮\\\\\n",
       "\t  998 & -0.2512596\\\\\n",
       "\t  999 & -0.1530120\\\\\n",
       "\t 1000 & -0.3715225\\\\\n",
       "\\end{tabular}\n"
      ],
      "text/markdown": [
       "\n",
       "A infer: 1000 × 2\n",
       "\n",
       "| replicate &lt;int&gt; | stat &lt;dbl&gt; |\n",
       "|---|---|\n",
       "| 1 |  0.1704272 |\n",
       "| 2 | -0.0516977 |\n",
       "| 3 | -0.0543264 |\n",
       "| ⋮ | ⋮ |\n",
       "|  998 | -0.2512596 |\n",
       "|  999 | -0.1530120 |\n",
       "| 1000 | -0.3715225 |\n",
       "\n"
      ],
      "text/plain": [
       "     replicate stat      \n",
       "1    1          0.1704272\n",
       "2    2         -0.0516977\n",
       "3    3         -0.0543264\n",
       "⋮    ⋮         ⋮         \n",
       "998   998      -0.2512596\n",
       "999   999      -0.1530120\n",
       "1000 1000      -0.3715225"
      ]
     },
     "metadata": {},
     "output_type": "display_data"
    }
   ],
   "source": [
    "null_diff_in_temp <- station_temp %>%\n",
    "    specify(formula = Mean_Temp ~ Year) %>%\n",
    "    hypothesize(null = \"independence\") %>%\n",
    "    generate(reps = 1000, type = \"permute\") %>%\n",
    "    calculate(stat = \"diff in means\", order = c(\"2001-2005\", \"1951-1955\"))\n",
    "null_diff_in_temp"
   ]
  },
  {
   "cell_type": "markdown",
   "id": "0a8e2d46-c17e-4ceb-a0da-786c7c2b5801",
   "metadata": {},
   "source": [
    "visualize and get p-value"
   ]
  },
  {
   "cell_type": "code",
   "execution_count": 20,
   "id": "12d49e9d-1c04-4eee-8f03-652b5adbe568",
   "metadata": {},
   "outputs": [
    {
     "name": "stderr",
     "output_type": "stream",
     "text": [
      "Warning message:\n",
      "“Please be cautious in reporting a p-value of 0. This result is an approximation based on the number of `reps` chosen in the `generate()` step. See `?get_p_value()` for more information.”\n"
     ]
    },
    {
     "data": {
      "text/html": [
       "<table class=\"dataframe\">\n",
       "<caption>A tibble: 1 × 1</caption>\n",
       "<thead>\n",
       "\t<tr><th scope=col>p_value</th></tr>\n",
       "\t<tr><th scope=col>&lt;dbl&gt;</th></tr>\n",
       "</thead>\n",
       "<tbody>\n",
       "\t<tr><td>0</td></tr>\n",
       "</tbody>\n",
       "</table>\n"
      ],
      "text/latex": [
       "A tibble: 1 × 1\n",
       "\\begin{tabular}{l}\n",
       " p\\_value\\\\\n",
       " <dbl>\\\\\n",
       "\\hline\n",
       "\t 0\\\\\n",
       "\\end{tabular}\n"
      ],
      "text/markdown": [
       "\n",
       "A tibble: 1 × 1\n",
       "\n",
       "| p_value &lt;dbl&gt; |\n",
       "|---|\n",
       "| 0 |\n",
       "\n"
      ],
      "text/plain": [
       "  p_value\n",
       "1 0      "
      ]
     },
     "metadata": {},
     "output_type": "display_data"
    },
    {
     "data": {
      "image/png": "[encoded data removed]",
      "text/plain": [
       "plot without title"
      ]
     },
     "metadata": {
      "image/png": {
       "height": 420,
       "width": 420
      }
     },
     "output_type": "display_data"
    }
   ],
   "source": [
    "diff_in_temp_plot <- null_diff_in_temp %>%\n",
    "    visualize(bins = 10) +\n",
    "    shade_p_value(obs_stat = obs_diff_in_temp, direction = \"right\") +\n",
    "    xlab(\"difference between sample means\") +\n",
    "    theme(text = element_text(size = 15))\n",
    "diff_in_temp_plot\n",
    "p_value <- null_diff_in_temp %>%\n",
    "    get_p_value(obs_stat = obs_diff_in_temp, direction = \"right\")\n",
    "p_value"
   ]
  },
  {
   "cell_type": "markdown",
   "id": "1bd91a43-40f0-4dc6-a224-48cfb6c745e2",
   "metadata": {},
   "source": [
    "We should never report a p-value of 0 because this suggests that making a Type I error is impossible. But this is too bold of a claim to make. Since we used 1000 reps to calculate the sample, we should report:\n",
    "\n",
    "The p-value is < 0.001, we reject the null hypothesis at the 5% significant level. "
   ]
  },
  {
   "cell_type": "markdown",
   "id": "dcd69e8e-f69f-4846-a1c0-b7ff63b7390e",
   "metadata": {},
   "source": [
    "### Confidence interval"
   ]
  },
  {
   "cell_type": "code",
   "execution_count": 22,
   "id": "83614cf8-1288-47c1-bb0c-7d6a0f2ec847",
   "metadata": {},
   "outputs": [
    {
     "data": {
      "text/html": [
       "<table class=\"dataframe\">\n",
       "<caption>A infer: 1000 × 2</caption>\n",
       "<thead>\n",
       "\t<tr><th scope=col>replicate</th><th scope=col>stat</th></tr>\n",
       "\t<tr><th scope=col>&lt;int&gt;</th><th scope=col>&lt;dbl&gt;</th></tr>\n",
       "</thead>\n",
       "<tbody>\n",
       "\t<tr><td>1</td><td>1.913215</td></tr>\n",
       "\t<tr><td>2</td><td>1.789817</td></tr>\n",
       "\t<tr><td>3</td><td>1.832396</td></tr>\n",
       "\t<tr><td>⋮</td><td>⋮</td></tr>\n",
       "\t<tr><td> 998</td><td>1.833956</td></tr>\n",
       "\t<tr><td> 999</td><td>1.962318</td></tr>\n",
       "\t<tr><td>1000</td><td>1.329293</td></tr>\n",
       "</tbody>\n",
       "</table>\n"
      ],
      "text/latex": [
       "A infer: 1000 × 2\n",
       "\\begin{tabular}{ll}\n",
       " replicate & stat\\\\\n",
       " <int> & <dbl>\\\\\n",
       "\\hline\n",
       "\t 1 & 1.913215\\\\\n",
       "\t 2 & 1.789817\\\\\n",
       "\t 3 & 1.832396\\\\\n",
       "\t ⋮ & ⋮\\\\\n",
       "\t  998 & 1.833956\\\\\n",
       "\t  999 & 1.962318\\\\\n",
       "\t 1000 & 1.329293\\\\\n",
       "\\end{tabular}\n"
      ],
      "text/markdown": [
       "\n",
       "A infer: 1000 × 2\n",
       "\n",
       "| replicate &lt;int&gt; | stat &lt;dbl&gt; |\n",
       "|---|---|\n",
       "| 1 | 1.913215 |\n",
       "| 2 | 1.789817 |\n",
       "| 3 | 1.832396 |\n",
       "| ⋮ | ⋮ |\n",
       "|  998 | 1.833956 |\n",
       "|  999 | 1.962318 |\n",
       "| 1000 | 1.329293 |\n",
       "\n"
      ],
      "text/plain": [
       "     replicate stat    \n",
       "1    1         1.913215\n",
       "2    2         1.789817\n",
       "3    3         1.832396\n",
       "⋮    ⋮         ⋮       \n",
       "998   998      1.833956\n",
       "999   999      1.962318\n",
       "1000 1000      1.329293"
      ]
     },
     "metadata": {},
     "output_type": "display_data"
    },
    {
     "data": {
      "image/png": "[encoded data removed]",
      "text/plain": [
       "plot without title"
      ]
     },
     "metadata": {
      "image/png": {
       "height": 420,
       "width": 420
      }
     },
     "output_type": "display_data"
    }
   ],
   "source": [
    "diff_in_temp_bootstrap_dist <- station_temp %>%\n",
    "    specify(formula = Mean_Temp ~ Year) %>%\n",
    "    generate(reps = 1000, type = \"bootstrap\") %>%\n",
    "    calculate(stat = \"diff in means\", order = c(\"2001-2005\", \"1951-1955\"))\n",
    "diff_in_temp_bootstrap_dist\n",
    "\n",
    "diff_in_temp_ci <- \n",
    "     diff_in_temp_bootstrap_dist %>% \n",
    "     get_confidence_interval(level = 0.95, type = \"percentile\")\n",
    "\n",
    "diff_in_temp_ci_plot <- diff_in_temp_bootstrap_dist %>%\n",
    "    visualize(bins = 10) +\n",
    "    shade_ci(diff_in_temp_ci) +\n",
    "    xlab(\"difference between sample means in daily temp\") +\n",
    "    theme(text = element_text(size = 15))\n",
    "diff_in_temp_ci_plot"
   ]
  },
  {
   "cell_type": "markdown",
   "id": "108012de-c2ae-44ed-987d-8e09efd00613",
   "metadata": {},
   "source": [
    "notice that the value 0 is not included in our confidence interval, again suggesting that $$\\bar{x}_{2005-2001}$$ and $$\\bar{x}_{1955-1951}$$ are truly different!"
   ]
  },
  {
   "cell_type": "code",
   "execution_count": null,
   "id": "64fe380f-37b4-452c-b89f-49123e0f4026",
   "metadata": {},
   "outputs": [],
   "source": []
  }
 ],
 "metadata": {
  "kernelspec": {
   "display_name": "R",
   "language": "R",
   "name": "ir"
  },
  "language_info": {
   "codemirror_mode": "r",
   "file_extension": ".r",
   "mimetype": "text/x-r-source",
   "name": "R",
   "pygments_lexer": "r",
   "version": "4.1.2"
  }
 },
 "nbformat": 4,
 "nbformat_minor": 5
}
