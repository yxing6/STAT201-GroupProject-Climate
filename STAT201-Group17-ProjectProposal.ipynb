{
 "cells": [
  {
   "cell_type": "code",
   "execution_count": 40,
   "id": "c5ea7515-4ce0-4c78-8928-2f837c7bb556",
   "metadata": {},
   "outputs": [],
   "source": [
    "# install.packages(\"tidymodels\")\n",
    "# install.packages(\"infer\")\n",
    "suppressPackageStartupMessages(library(tidyverse))\n",
    "suppressPackageStartupMessages(library(tidymodels))\n",
    "suppressPackageStartupMessages(library(repr))\n",
    "suppressPackageStartupMessages(library(infer))\n",
    "suppressPackageStartupMessages(library(GGally))\n",
    "options(repr.matrix.max.rows = 6)\n",
    "options(repr.plot.width = 8, repr.plot.height = 8)\n",
    "set.seed(100)"
   ]
  },
  {
   "cell_type": "markdown",
   "id": "d4f928fb-239b-463b-afb6-1d41b9135c0f",
   "metadata": {
    "tags": []
   },
   "source": [
    "## Climate Change: Study temperature and precipitation in historical vs contemporary weather records   \n",
    "**STAT 201   Project Proposal    \n",
    "Group 17: Fiona Wang, Serena Feng, Maggie Ruan, Yun Xing    \n",
    "Date:         March 03, 2022**"
   ]
  },
  {
   "cell_type": "markdown",
   "id": "17388a0e-8ae8-449d-b820-8ef60422b94f",
   "metadata": {
    "tags": []
   },
   "source": [
    "### Introduction\n",
    "\n",
    "Climate change refers to long-term shifts in temperatures and weather patterns (United Nations, n.d.-a). Although the main cause for climate change varies from the raising concretion of greenhouse gases in the atmosphere to periodical change in solar activities and remains controversial, the effects of climate change are more universally observed. United Nations (n.d.-b) summarizes the effects of climate change as: hotter temperatures, more severe storms, increased drought, etc. Our group intends to obtain data from a Canadian weather station and compare the temperature and precipitation data of some historical years to the present.  \n",
    "  \n",
    "\n",
    "The Canadian Climate and Weather Database provides weather records from numerous weather stations across Canada. Each weather station contains weather records in hourly, daily, and monthly formats. In order to obtain a meaningful and relatively large time span, we queried stations with data available between 1950 and 2022. The query returned 8796 weather stations, and from which, we randomly selected **ABBOTSFORD A** weather station in BC to use for this study.  "
   ]
  },
  {
   "cell_type": "markdown",
   "id": "ace6d383-eca7-4499-8c81-23a622dfe12a",
   "metadata": {
    "tags": []
   },
   "source": [
    "### Methodology\n",
    "\n",
    "#### Data Importing, Cleaning, and Wrangling\n",
    "  \n",
    "We first downloaded and imported daily data from 1950 to 1955 and 2000 to 2005."
   ]
  },
  {
   "cell_type": "code",
   "execution_count": 42,
   "id": "7b09ee1d-0728-4c70-87f4-570b0a367e25",
   "metadata": {},
   "outputs": [],
   "source": [
    "climate_1951 <- read_csv(\"https://raw.githubusercontent.com/yxing6/STAT201-GroupProject-Climate/main/Data/en_climate_daily_BC_1100030_1951_P1D.csv\", show_col_types = FALSE)\n",
    "climate_1952 <- read_csv(\"https://raw.githubusercontent.com/yxing6/STAT201-GroupProject-Climate/main/Data/en_climate_daily_BC_1100030_1952_P1D.csv\", show_col_types = FALSE)\n",
    "climate_1953 <- read_csv(\"https://raw.githubusercontent.com/yxing6/STAT201-GroupProject-Climate/main/Data/en_climate_daily_BC_1100030_1953_P1D.csv\", show_col_types = FALSE)\n",
    "climate_1954 <- read_csv(\"https://raw.githubusercontent.com/yxing6/STAT201-GroupProject-Climate/main/Data/en_climate_daily_BC_1100030_1954_P1D.csv\", show_col_types = FALSE)\n",
    "climate_1955 <- read_csv(\"https://raw.githubusercontent.com/yxing6/STAT201-GroupProject-Climate/main/Data/en_climate_daily_BC_1100030_1955_P1D.csv\", show_col_types = FALSE)\n",
    "climate_2001 <- read_csv(\"https://raw.githubusercontent.com/yxing6/STAT201-GroupProject-Climate/main/Data/en_climate_daily_BC_1100030_2001_P1D.csv\", show_col_types = FALSE)\n",
    "climate_2002 <- read_csv(\"https://raw.githubusercontent.com/yxing6/STAT201-GroupProject-Climate/main/Data/en_climate_daily_BC_1100030_2002_P1D.csv\", show_col_types = FALSE)\n",
    "climate_2003 <- read_csv(\"https://raw.githubusercontent.com/yxing6/STAT201-GroupProject-Climate/main/Data/en_climate_daily_BC_1100030_2003_P1D.csv\", show_col_types = FALSE)\n",
    "climate_2004 <- read_csv(\"https://raw.githubusercontent.com/yxing6/STAT201-GroupProject-Climate/main/Data/en_climate_daily_BC_1100030_2004_P1D.csv\", show_col_types = FALSE)\n",
    "climate_2005 <- read_csv(\"https://raw.githubusercontent.com/yxing6/STAT201-GroupProject-Climate/main/Data/en_climate_daily_BC_1100030_2005_P1D.csv\", show_col_types = FALSE)\n"
   ]
  },
  {
   "cell_type": "markdown",
   "id": "1350c3e5-03cf-489a-a3ea-fbb57271d979",
   "metadata": {},
   "source": [
    "Next, we combined the yearly data frames and mutated a column to indicate the time of the weather records. The data in the 1950s are labeled as `historical` and the data in the 2000s are labeled as `contemporary`. We then further combined these two data frames to serve as the raw sample for this study.\n",
    "      \n",
    "The raw sample contains 31 variables of weather measurements in which we decided to use the following as our main parameters: \n",
    "- `Year`: the year of the weather record \n",
    "- `Month`: the month of weather record\n",
    "- `Day`: the data of weather record\n",
    "- `Max Temp`: maximum temperature of the day in degrees Celsius\n",
    "- `Min Temp`: minimum temperature of the day in degrees Celsius\n",
    "- `Mean Temp`: average temperature of the day in degrees Celsius\n",
    "- `Total Precip`: total amount of precipitation measured in millimetres. \n",
    "  \n",
    "The following codes demonstrate the steps of data cleaning and wrangling into a tidy format:\n"
   ]
  },
  {
   "cell_type": "code",
   "execution_count": 43,
   "id": "077dc27b-ce13-40a3-99d3-14628eb3135d",
   "metadata": {},
   "outputs": [],
   "source": [
    "climate_historical <- \n",
    "    rbind(climate_1951, climate_1952, climate_1953, climate_1954, climate_1955) %>%\n",
    "    mutate(Category = as.factor(\"historical\"))\n",
    "\n",
    "climate_contemporary <- \n",
    "    rbind(climate_2001, climate_2002, climate_2003, climate_2004, climate_2005) %>%\n",
    "    mutate(Category = as.factor(\"contemporary\"))\n",
    "\n",
    "climate_merge <- rbind(climate_historical, climate_contemporary) "
   ]
  },
  {
   "cell_type": "code",
   "execution_count": 44,
   "id": "cbb4edc4-f76e-48a2-b5d9-3d1a7f63a754",
   "metadata": {},
   "outputs": [
    {
     "data": {
      "text/html": [
       "<table class=\"dataframe\">\n",
       "<caption>A tibble: 6 × 11</caption>\n",
       "<thead>\n",
       "\t<tr><th scope=col>Category</th><th scope=col>Year</th><th scope=col>Month</th><th scope=col>Day</th><th scope=col>Max_Temp</th><th scope=col>Min_Temp</th><th scope=col>Mean_Temp</th><th scope=col>Heat_Deg_Days</th><th scope=col>Cool_Deg_Days</th><th scope=col>Total_Rain</th><th scope=col>Total_Precip</th></tr>\n",
       "\t<tr><th scope=col>&lt;fct&gt;</th><th scope=col>&lt;dbl&gt;</th><th scope=col>&lt;chr&gt;</th><th scope=col>&lt;chr&gt;</th><th scope=col>&lt;dbl&gt;</th><th scope=col>&lt;dbl&gt;</th><th scope=col>&lt;dbl&gt;</th><th scope=col>&lt;dbl&gt;</th><th scope=col>&lt;dbl&gt;</th><th scope=col>&lt;dbl&gt;</th><th scope=col>&lt;dbl&gt;</th></tr>\n",
       "</thead>\n",
       "<tbody>\n",
       "\t<tr><td>historical</td><td>1951</td><td>01</td><td>01</td><td>4.4</td><td> 2.8</td><td> 3.6</td><td>14.4</td><td>0</td><td>21.3</td><td>21.3</td></tr>\n",
       "\t<tr><td>historical</td><td>1951</td><td>01</td><td>02</td><td>6.1</td><td> 1.1</td><td> 3.6</td><td>14.4</td><td>0</td><td>32.0</td><td>32.0</td></tr>\n",
       "\t<tr><td>historical</td><td>1951</td><td>01</td><td>03</td><td>5.0</td><td> 3.3</td><td> 4.2</td><td>13.8</td><td>0</td><td> 0.8</td><td> 1.3</td></tr>\n",
       "\t<tr><td>historical</td><td>1951</td><td>01</td><td>04</td><td>1.1</td><td>-1.7</td><td>-0.3</td><td>18.3</td><td>0</td><td> 0.0</td><td> 0.0</td></tr>\n",
       "\t<tr><td>historical</td><td>1951</td><td>01</td><td>05</td><td>3.3</td><td>-1.7</td><td> 0.8</td><td>17.2</td><td>0</td><td> 0.0</td><td> 0.0</td></tr>\n",
       "\t<tr><td>historical</td><td>1951</td><td>01</td><td>06</td><td>6.7</td><td>-2.2</td><td> 2.3</td><td>15.7</td><td>0</td><td> 0.0</td><td> 0.0</td></tr>\n",
       "</tbody>\n",
       "</table>\n"
      ],
      "text/latex": [
       "A tibble: 6 × 11\n",
       "\\begin{tabular}{lllllllllll}\n",
       " Category & Year & Month & Day & Max\\_Temp & Min\\_Temp & Mean\\_Temp & Heat\\_Deg\\_Days & Cool\\_Deg\\_Days & Total\\_Rain & Total\\_Precip\\\\\n",
       " <fct> & <dbl> & <chr> & <chr> & <dbl> & <dbl> & <dbl> & <dbl> & <dbl> & <dbl> & <dbl>\\\\\n",
       "\\hline\n",
       "\t historical & 1951 & 01 & 01 & 4.4 &  2.8 &  3.6 & 14.4 & 0 & 21.3 & 21.3\\\\\n",
       "\t historical & 1951 & 01 & 02 & 6.1 &  1.1 &  3.6 & 14.4 & 0 & 32.0 & 32.0\\\\\n",
       "\t historical & 1951 & 01 & 03 & 5.0 &  3.3 &  4.2 & 13.8 & 0 &  0.8 &  1.3\\\\\n",
       "\t historical & 1951 & 01 & 04 & 1.1 & -1.7 & -0.3 & 18.3 & 0 &  0.0 &  0.0\\\\\n",
       "\t historical & 1951 & 01 & 05 & 3.3 & -1.7 &  0.8 & 17.2 & 0 &  0.0 &  0.0\\\\\n",
       "\t historical & 1951 & 01 & 06 & 6.7 & -2.2 &  2.3 & 15.7 & 0 &  0.0 &  0.0\\\\\n",
       "\\end{tabular}\n"
      ],
      "text/markdown": [
       "\n",
       "A tibble: 6 × 11\n",
       "\n",
       "| Category &lt;fct&gt; | Year &lt;dbl&gt; | Month &lt;chr&gt; | Day &lt;chr&gt; | Max_Temp &lt;dbl&gt; | Min_Temp &lt;dbl&gt; | Mean_Temp &lt;dbl&gt; | Heat_Deg_Days &lt;dbl&gt; | Cool_Deg_Days &lt;dbl&gt; | Total_Rain &lt;dbl&gt; | Total_Precip &lt;dbl&gt; |\n",
       "|---|---|---|---|---|---|---|---|---|---|---|\n",
       "| historical | 1951 | 01 | 01 | 4.4 |  2.8 |  3.6 | 14.4 | 0 | 21.3 | 21.3 |\n",
       "| historical | 1951 | 01 | 02 | 6.1 |  1.1 |  3.6 | 14.4 | 0 | 32.0 | 32.0 |\n",
       "| historical | 1951 | 01 | 03 | 5.0 |  3.3 |  4.2 | 13.8 | 0 |  0.8 |  1.3 |\n",
       "| historical | 1951 | 01 | 04 | 1.1 | -1.7 | -0.3 | 18.3 | 0 |  0.0 |  0.0 |\n",
       "| historical | 1951 | 01 | 05 | 3.3 | -1.7 |  0.8 | 17.2 | 0 |  0.0 |  0.0 |\n",
       "| historical | 1951 | 01 | 06 | 6.7 | -2.2 |  2.3 | 15.7 | 0 |  0.0 |  0.0 |\n",
       "\n"
      ],
      "text/plain": [
       "  Category   Year Month Day Max_Temp Min_Temp Mean_Temp Heat_Deg_Days\n",
       "1 historical 1951 01    01  4.4       2.8      3.6      14.4         \n",
       "2 historical 1951 01    02  6.1       1.1      3.6      14.4         \n",
       "3 historical 1951 01    03  5.0       3.3      4.2      13.8         \n",
       "4 historical 1951 01    04  1.1      -1.7     -0.3      18.3         \n",
       "5 historical 1951 01    05  3.3      -1.7      0.8      17.2         \n",
       "6 historical 1951 01    06  6.7      -2.2      2.3      15.7         \n",
       "  Cool_Deg_Days Total_Rain Total_Precip\n",
       "1 0             21.3       21.3        \n",
       "2 0             32.0       32.0        \n",
       "3 0              0.8        1.3        \n",
       "4 0              0.0        0.0        \n",
       "5 0              0.0        0.0        \n",
       "6 0              0.0        0.0        "
      ]
     },
     "metadata": {},
     "output_type": "display_data"
    }
   ],
   "source": [
    "climate_sample <- climate_merge %>%\n",
    "    select(\"Category\", \"Year\", \"Month\", \"Day\", \"Max Temp (°C)\", \"Min Temp (°C)\",\n",
    "           \"Mean Temp (°C)\", \"Heat Deg Days (°C)\", \"Cool Deg Days (°C)\", \n",
    "           \"Total Rain (mm)\", \"Total Precip (mm)\") %>%\n",
    "    rename(\"Max_Temp\" = \"Max Temp (°C)\",\n",
    "         \"Min_Temp\" = \"Min Temp (°C)\",\n",
    "         \"Mean_Temp\" = \"Mean Temp (°C)\",\n",
    "         \"Heat_Deg_Days\" = \"Heat Deg Days (°C)\",\n",
    "         \"Cool_Deg_Days\" = \"Cool Deg Days (°C)\",\n",
    "         \"Total_Rain\" = \"Total Rain (mm)\",\n",
    "         \"Total_Precip\" = \"Total Precip (mm)\")\n",
    "head(climate_sample)"
   ]
  },
  {
   "cell_type": "markdown",
   "id": "81fbbd9b-4ffb-40d3-b55f-97842704bf40",
   "metadata": {},
   "source": [
    "*Table 1. Table of sample weather record at Abbotsford A weather station*"
   ]
  },
  {
   "cell_type": "markdown",
   "id": "51220b5a-b81d-4411-b8b9-b275c27e4218",
   "metadata": {},
   "source": [
    "#### Preliminary Data Explore"
   ]
  },
  {
   "cell_type": "markdown",
   "id": "c64bd1df-3ce7-4d03-bfed-0a3bbea0d77a",
   "metadata": {},
   "source": [
    "Most of the current climate model tells us that the temperature in the recent decade is higher than last century. Is there enough evidence to support this claim? Can we see a similar difference in `Mean_Temp` between historical and contemporary data in the sample weather record from the Abbotsford A weather station?   \n",
    "We first subset the `Mean_Temp` data and answered this question with a box plot."
   ]
  },
  {
   "cell_type": "code",
   "execution_count": 45,
   "id": "086f7940-0d09-473c-b872-fc1e83abd93a",
   "metadata": {},
   "outputs": [
    {
     "data": {
      "image/png": "[encoded data removed]",
      "text/plain": [
       "plot without title"
      ]
     },
     "metadata": {
      "image/png": {
       "height": 480,
       "width": 480
      }
     },
     "output_type": "display_data"
    }
   ],
   "source": [
    "station_temp <- climate_sample %>%\n",
    "    filter(!is.na(Mean_Temp)) %>%\n",
    "    select(Category, Mean_Temp)\n",
    "\n",
    "temp_boxplots <- station_temp %>%\n",
    "    ggplot(aes(x = Category, y = Mean_Temp)) +\n",
    "    geom_boxplot() +\n",
    "    labs(x = \"Temporal Category\", y = \"Daily Mean Temperature (°C)\") +\n",
    "    ggtitle(\"Boxplots of Temperatures\") +\n",
    "    theme(text = element_text(size = 20))\n",
    "temp_boxplots"
   ]
  },
  {
   "cell_type": "markdown",
   "id": "63e63eb7-6300-41fa-84cb-daa2590a5372",
   "metadata": {},
   "source": [
    "*Figure 1. Boxplot of daily mean temperature at Abbotsford A weather station*"
   ]
  },
  {
   "cell_type": "markdown",
   "id": "42b819d3-5826-4d98-9ca5-d4f142d19a40",
   "metadata": {},
   "source": [
    "From this boxplot, we can observe that there is a small difference in the mean of daily `Mean_Temp` between the historical and contemporary weather records. However, how big is this difference? It is also hard to tell if the distinction is due to the sampling variability or a real difference in the daily temperature.  \n",
    "  \n",
    "In this project, we will be conducting hypothesis testing to study if there is enough evidence in our sample to contradict the null hypothesis:"
   ]
  },
  {
   "cell_type": "markdown",
   "id": "d8681911-077a-4726-bdd9-515fea8c29cc",
   "metadata": {},
   "source": [
    "$H_0$: The mean of the contemporary daily mean temperature is the same as the mean of the historical daily mean temperature.  \n",
    "  \n",
    "$$H_0: \\bar{x}_{contemporary} - \\bar{x}_{historical} = 0$$\n"
   ]
  },
  {
   "cell_type": "markdown",
   "id": "a6f8376b-7b05-49c9-bfad-f0c193ba40a0",
   "metadata": {},
   "source": [
    "### calculate observed test statistic"
   ]
  },
  {
   "cell_type": "code",
   "execution_count": 31,
   "id": "ae98712c-af66-4603-934b-a406596fde2d",
   "metadata": {},
   "outputs": [
    {
     "data": {
      "text/html": [
       "<table class=\"dataframe\">\n",
       "<caption>A infer: 1 × 1</caption>\n",
       "<thead>\n",
       "\t<tr><th scope=col>stat</th></tr>\n",
       "\t<tr><th scope=col>&lt;dbl&gt;</th></tr>\n",
       "</thead>\n",
       "<tbody>\n",
       "\t<tr><td>1.742059</td></tr>\n",
       "</tbody>\n",
       "</table>\n"
      ],
      "text/latex": [
       "A infer: 1 × 1\n",
       "\\begin{tabular}{l}\n",
       " stat\\\\\n",
       " <dbl>\\\\\n",
       "\\hline\n",
       "\t 1.742059\\\\\n",
       "\\end{tabular}\n"
      ],
      "text/markdown": [
       "\n",
       "A infer: 1 × 1\n",
       "\n",
       "| stat &lt;dbl&gt; |\n",
       "|---|\n",
       "| 1.742059 |\n",
       "\n"
      ],
      "text/plain": [
       "  stat    \n",
       "1 1.742059"
      ]
     },
     "metadata": {},
     "output_type": "display_data"
    }
   ],
   "source": [
    "obs_diff_in_temp <- station_temp %>%\n",
    "    specify(formula = Mean_Temp ~ Year) %>%\n",
    "    calculate(stat = \"diff in means\", order = c(\"contemporary\", \"historical\"))\n",
    "obs_diff_in_temp"
   ]
  },
  {
   "cell_type": "markdown",
   "id": "f0d14f43-58e0-45a7-b291-bccb8ccc834a",
   "metadata": {},
   "source": [
    "### Simulating from the null distribution"
   ]
  },
  {
   "cell_type": "code",
   "execution_count": 32,
   "id": "af872787-53f7-464f-b022-089e679ec337",
   "metadata": {},
   "outputs": [
    {
     "data": {
      "text/html": [
       "<table class=\"dataframe\">\n",
       "<caption>A infer: 1000 × 2</caption>\n",
       "<thead>\n",
       "\t<tr><th scope=col>replicate</th><th scope=col>stat</th></tr>\n",
       "\t<tr><th scope=col>&lt;int&gt;</th><th scope=col>&lt;dbl&gt;</th></tr>\n",
       "</thead>\n",
       "<tbody>\n",
       "\t<tr><td>1</td><td>-0.08422782</td></tr>\n",
       "\t<tr><td>2</td><td> 0.17864184</td></tr>\n",
       "\t<tr><td>3</td><td>-0.03986857</td></tr>\n",
       "\t<tr><td>⋮</td><td>⋮</td></tr>\n",
       "\t<tr><td> 998</td><td>-0.21062432</td></tr>\n",
       "\t<tr><td> 999</td><td> 0.00109529</td></tr>\n",
       "\t<tr><td>1000</td><td>-0.05279299</td></tr>\n",
       "</tbody>\n",
       "</table>\n"
      ],
      "text/latex": [
       "A infer: 1000 × 2\n",
       "\\begin{tabular}{ll}\n",
       " replicate & stat\\\\\n",
       " <int> & <dbl>\\\\\n",
       "\\hline\n",
       "\t 1 & -0.08422782\\\\\n",
       "\t 2 &  0.17864184\\\\\n",
       "\t 3 & -0.03986857\\\\\n",
       "\t ⋮ & ⋮\\\\\n",
       "\t  998 & -0.21062432\\\\\n",
       "\t  999 &  0.00109529\\\\\n",
       "\t 1000 & -0.05279299\\\\\n",
       "\\end{tabular}\n"
      ],
      "text/markdown": [
       "\n",
       "A infer: 1000 × 2\n",
       "\n",
       "| replicate &lt;int&gt; | stat &lt;dbl&gt; |\n",
       "|---|---|\n",
       "| 1 | -0.08422782 |\n",
       "| 2 |  0.17864184 |\n",
       "| 3 | -0.03986857 |\n",
       "| ⋮ | ⋮ |\n",
       "|  998 | -0.21062432 |\n",
       "|  999 |  0.00109529 |\n",
       "| 1000 | -0.05279299 |\n",
       "\n"
      ],
      "text/plain": [
       "     replicate stat       \n",
       "1    1         -0.08422782\n",
       "2    2          0.17864184\n",
       "3    3         -0.03986857\n",
       "⋮    ⋮         ⋮          \n",
       "998   998      -0.21062432\n",
       "999   999       0.00109529\n",
       "1000 1000      -0.05279299"
      ]
     },
     "metadata": {},
     "output_type": "display_data"
    }
   ],
   "source": [
    "null_diff_in_temp <- station_temp %>%\n",
    "    specify(formula = Mean_Temp ~ Year) %>%\n",
    "    hypothesize(null = \"independence\") %>%\n",
    "    generate(reps = 1000, type = \"permute\") %>%\n",
    "    calculate(stat = \"diff in means\", order = c(\"contemporary\", \"historical\"))\n",
    "null_diff_in_temp"
   ]
  },
  {
   "cell_type": "markdown",
   "id": "0a8e2d46-c17e-4ceb-a0da-786c7c2b5801",
   "metadata": {},
   "source": [
    "### visualize and get p-value"
   ]
  },
  {
   "cell_type": "code",
   "execution_count": 33,
   "id": "12d49e9d-1c04-4eee-8f03-652b5adbe568",
   "metadata": {},
   "outputs": [
    {
     "name": "stderr",
     "output_type": "stream",
     "text": [
      "Warning message:\n",
      "“Please be cautious in reporting a p-value of 0. This result is an approximation based on the number of `reps` chosen in the `generate()` step. See `?get_p_value()` for more information.”\n"
     ]
    },
    {
     "data": {
      "text/html": [
       "<table class=\"dataframe\">\n",
       "<caption>A tibble: 1 × 1</caption>\n",
       "<thead>\n",
       "\t<tr><th scope=col>p_value</th></tr>\n",
       "\t<tr><th scope=col>&lt;dbl&gt;</th></tr>\n",
       "</thead>\n",
       "<tbody>\n",
       "\t<tr><td>0</td></tr>\n",
       "</tbody>\n",
       "</table>\n"
      ],
      "text/latex": [
       "A tibble: 1 × 1\n",
       "\\begin{tabular}{l}\n",
       " p\\_value\\\\\n",
       " <dbl>\\\\\n",
       "\\hline\n",
       "\t 0\\\\\n",
       "\\end{tabular}\n"
      ],
      "text/markdown": [
       "\n",
       "A tibble: 1 × 1\n",
       "\n",
       "| p_value &lt;dbl&gt; |\n",
       "|---|\n",
       "| 0 |\n",
       "\n"
      ],
      "text/plain": [
       "  p_value\n",
       "1 0      "
      ]
     },
     "metadata": {},
     "output_type": "display_data"
    },
    {
     "data": {
      "image/png": "[encoded data removed]",
      "text/plain": [
       "plot without title"
      ]
     },
     "metadata": {
      "image/png": {
       "height": 420,
       "width": 420
      }
     },
     "output_type": "display_data"
    }
   ],
   "source": [
    "diff_in_temp_plot <- null_diff_in_temp %>%\n",
    "    visualize(bins = 10) +\n",
    "    shade_p_value(obs_stat = obs_diff_in_temp, direction = \"right\") +\n",
    "    xlab(\"difference between sample means\") +\n",
    "    theme(text = element_text(size = 15))\n",
    "diff_in_temp_plot\n",
    "p_value <- null_diff_in_temp %>%\n",
    "    get_p_value(obs_stat = obs_diff_in_temp, direction = \"right\")\n",
    "p_value"
   ]
  },
  {
   "cell_type": "markdown",
   "id": "1bd91a43-40f0-4dc6-a224-48cfb6c745e2",
   "metadata": {},
   "source": [
    "### We should never report a p-value of 0 because this suggests that making a Type I error is impossible. This is too bold of a claim to make. Since we used 1000 reps to calculate the sample, we should report:\n",
    "### The p-value is < 0.001, we reject the null hypothesis at the 5% significant level. "
   ]
  },
  {
   "cell_type": "markdown",
   "id": "dcd69e8e-f69f-4846-a1c0-b7ff63b7390e",
   "metadata": {},
   "source": [
    "## Confidence interval"
   ]
  },
  {
   "cell_type": "code",
   "execution_count": 34,
   "id": "83614cf8-1288-47c1-bb0c-7d6a0f2ec847",
   "metadata": {},
   "outputs": [
    {
     "data": {
      "text/html": [
       "<table class=\"dataframe\">\n",
       "<caption>A infer: 1000 × 2</caption>\n",
       "<thead>\n",
       "\t<tr><th scope=col>replicate</th><th scope=col>stat</th></tr>\n",
       "\t<tr><th scope=col>&lt;int&gt;</th><th scope=col>&lt;dbl&gt;</th></tr>\n",
       "</thead>\n",
       "<tbody>\n",
       "\t<tr><td>1</td><td>1.854762</td></tr>\n",
       "\t<tr><td>2</td><td>1.683543</td></tr>\n",
       "\t<tr><td>3</td><td>2.007323</td></tr>\n",
       "\t<tr><td>⋮</td><td>⋮</td></tr>\n",
       "\t<tr><td> 998</td><td>2.006548</td></tr>\n",
       "\t<tr><td> 999</td><td>1.673263</td></tr>\n",
       "\t<tr><td>1000</td><td>1.653779</td></tr>\n",
       "</tbody>\n",
       "</table>\n"
      ],
      "text/latex": [
       "A infer: 1000 × 2\n",
       "\\begin{tabular}{ll}\n",
       " replicate & stat\\\\\n",
       " <int> & <dbl>\\\\\n",
       "\\hline\n",
       "\t 1 & 1.854762\\\\\n",
       "\t 2 & 1.683543\\\\\n",
       "\t 3 & 2.007323\\\\\n",
       "\t ⋮ & ⋮\\\\\n",
       "\t  998 & 2.006548\\\\\n",
       "\t  999 & 1.673263\\\\\n",
       "\t 1000 & 1.653779\\\\\n",
       "\\end{tabular}\n"
      ],
      "text/markdown": [
       "\n",
       "A infer: 1000 × 2\n",
       "\n",
       "| replicate &lt;int&gt; | stat &lt;dbl&gt; |\n",
       "|---|---|\n",
       "| 1 | 1.854762 |\n",
       "| 2 | 1.683543 |\n",
       "| 3 | 2.007323 |\n",
       "| ⋮ | ⋮ |\n",
       "|  998 | 2.006548 |\n",
       "|  999 | 1.673263 |\n",
       "| 1000 | 1.653779 |\n",
       "\n"
      ],
      "text/plain": [
       "     replicate stat    \n",
       "1    1         1.854762\n",
       "2    2         1.683543\n",
       "3    3         2.007323\n",
       "⋮    ⋮         ⋮       \n",
       "998   998      2.006548\n",
       "999   999      1.673263\n",
       "1000 1000      1.653779"
      ]
     },
     "metadata": {},
     "output_type": "display_data"
    },
    {
     "data": {
      "image/png": "[encoded data removed]",
      "text/plain": [
       "plot without title"
      ]
     },
     "metadata": {
      "image/png": {
       "height": 420,
       "width": 420
      }
     },
     "output_type": "display_data"
    }
   ],
   "source": [
    "diff_in_temp_bootstrap_dist <- station_temp %>%\n",
    "    specify(formula = Mean_Temp ~ Year) %>%\n",
    "    generate(reps = 1000, type = \"bootstrap\") %>%\n",
    "    calculate(stat = \"diff in means\", order = c(\"contemporary\", \"historical\"))\n",
    "diff_in_temp_bootstrap_dist\n",
    "\n",
    "diff_in_temp_ci <- \n",
    "     diff_in_temp_bootstrap_dist %>% \n",
    "     get_confidence_interval(level = 0.95, type = \"percentile\")\n",
    "\n",
    "diff_in_temp_ci_plot <- diff_in_temp_bootstrap_dist %>%\n",
    "    visualize(bins = 10) +\n",
    "    shade_ci(diff_in_temp_ci) +\n",
    "    xlab(\"difference between sample means in daily temp\") +\n",
    "    theme(text = element_text(size = 15))\n",
    "diff_in_temp_ci_plot"
   ]
  },
  {
   "cell_type": "markdown",
   "id": "108012de-c2ae-44ed-987d-8e09efd00613",
   "metadata": {},
   "source": [
    "### notice that the value 0 is not included in our confidence interval, again suggesting that $\\bar{x}_{2005-2001}$ and $\\bar{x}_{1955-1951}$ are truly different!"
   ]
  },
  {
   "cell_type": "code",
   "execution_count": null,
   "id": "64fe380f-37b4-452c-b89f-49123e0f4026",
   "metadata": {},
   "outputs": [],
   "source": []
  }
 ],
 "metadata": {
  "kernelspec": {
   "display_name": "R",
   "language": "R",
   "name": "ir"
  },
  "language_info": {
   "codemirror_mode": "r",
   "file_extension": ".r",
   "mimetype": "text/x-r-source",
   "name": "R",
   "pygments_lexer": "r",
   "version": "4.1.2"
  }
 },
 "nbformat": 4,
 "nbformat_minor": 5
}
